{
  "nbformat": 4,
  "nbformat_minor": 0,
  "metadata": {
    "colab": {
      "name": "introduction-to-machine-learning-with-h2o-3-automl-checkpoint",
      "provenance": [],
      "collapsed_sections": [
        "KSz4qkfU-9dy",
        "8fiv5tGm-9d0",
        "yNp82yeH-9d3",
        "eXitAUKF-9d3",
        "_LAqGJkq-9d3",
        "nijwpCv8-9d4"
      ],
      "include_colab_link": true
    },
    "kernelspec": {
      "display_name": "Python 3",
      "language": "python",
      "name": "python3"
    },
    "language_info": {
      "codemirror_mode": {
        "name": "ipython",
        "version": 3
      },
      "file_extension": ".py",
      "mimetype": "text/x-python",
      "name": "python",
      "nbconvert_exporter": "python",
      "pygments_lexer": "ipython3",
      "version": "3.7.4"
    }
  },
  "cells": [
    {
      "cell_type": "markdown",
      "metadata": {
        "id": "view-in-github",
        "colab_type": "text"
      },
      "source": [
        "<a href=\"https://colab.research.google.com/github/rubuntu/h2oai-tutorials/blob/main/introduction_to_machine_learning_with_h2o_3_automl.ipynb\" target=\"_parent\"><img src=\"https://colab.research.google.com/assets/colab-badge.svg\" alt=\"Open In Colab\"/></a>"
      ]
    },
    {
      "cell_type": "markdown",
      "metadata": {
        "id": "2Ry6Cvo_-9dt"
      },
      "source": [
        "## Task 1: Initial Setup"
      ]
    },
    {
      "cell_type": "markdown",
      "metadata": {
        "id": "YYDIjfp1QKyY"
      },
      "source": [
        "Based on https://github.com/h2oai/tutorials/blob/master/H2O-3/h2o-3-tutorials-code/Python/introduction-to-machine-learning-with-h2o-3-automl.ipynb"
      ]
    },
    {
      "cell_type": "code",
      "metadata": {
        "colab": {
          "base_uri": "https://localhost:8080/"
        },
        "id": "mogFKDXt_nIQ",
        "outputId": "0e0e9682-8374-4b04-9f3b-11b67a352175"
      },
      "source": [
        "!pip install requests\n",
        "!pip install tabulate\n",
        "!pip install \"colorama>=0.3.8\"\n",
        "!pip install future"
      ],
      "execution_count": null,
      "outputs": [
        {
          "output_type": "stream",
          "text": [
            "Requirement already satisfied: requests in /usr/local/lib/python3.7/dist-packages (2.23.0)\n",
            "Requirement already satisfied: certifi>=2017.4.17 in /usr/local/lib/python3.7/dist-packages (from requests) (2020.12.5)\n",
            "Requirement already satisfied: idna<3,>=2.5 in /usr/local/lib/python3.7/dist-packages (from requests) (2.10)\n",
            "Requirement already satisfied: urllib3!=1.25.0,!=1.25.1,<1.26,>=1.21.1 in /usr/local/lib/python3.7/dist-packages (from requests) (1.24.3)\n",
            "Requirement already satisfied: chardet<4,>=3.0.2 in /usr/local/lib/python3.7/dist-packages (from requests) (3.0.4)\n",
            "Requirement already satisfied: tabulate in /usr/local/lib/python3.7/dist-packages (0.8.9)\n",
            "Collecting colorama>=0.3.8\n",
            "  Downloading https://files.pythonhosted.org/packages/44/98/5b86278fbbf250d239ae0ecb724f8572af1c91f4a11edf4d36a206189440/colorama-0.4.4-py2.py3-none-any.whl\n",
            "Installing collected packages: colorama\n",
            "Successfully installed colorama-0.4.4\n",
            "Requirement already satisfied: future in /usr/local/lib/python3.7/dist-packages (0.16.0)\n"
          ],
          "name": "stdout"
        }
      ]
    },
    {
      "cell_type": "code",
      "metadata": {
        "colab": {
          "base_uri": "https://localhost:8080/"
        },
        "id": "u0FL_dZf_4dj",
        "outputId": "97a6029e-d2cb-485a-82f2-5c52b6af5008"
      },
      "source": [
        "!pip install http://h2o-release.s3.amazonaws.com/h2o/rel-zipf/2/Python/h2o-3.32.1.2-py2.py3-none-any.whl"
      ],
      "execution_count": null,
      "outputs": [
        {
          "output_type": "stream",
          "text": [
            "Collecting h2o==3.32.1.2\n",
            "\u001b[?25l  Downloading http://h2o-release.s3.amazonaws.com/h2o/rel-zipf/2/Python/h2o-3.32.1.2-py2.py3-none-any.whl (164.9MB)\n",
            "\u001b[K     |████████████████████████████████| 164.9MB 1.3MB/s \n",
            "\u001b[?25hRequirement already satisfied: requests in /usr/local/lib/python3.7/dist-packages (from h2o==3.32.1.2) (2.23.0)\n",
            "Requirement already satisfied: tabulate in /usr/local/lib/python3.7/dist-packages (from h2o==3.32.1.2) (0.8.9)\n",
            "Requirement already satisfied: future in /usr/local/lib/python3.7/dist-packages (from h2o==3.32.1.2) (0.16.0)\n",
            "Requirement already satisfied: colorama>=0.3.8 in /usr/local/lib/python3.7/dist-packages (from h2o==3.32.1.2) (0.4.4)\n",
            "Requirement already satisfied: idna<3,>=2.5 in /usr/local/lib/python3.7/dist-packages (from requests->h2o==3.32.1.2) (2.10)\n",
            "Requirement already satisfied: certifi>=2017.4.17 in /usr/local/lib/python3.7/dist-packages (from requests->h2o==3.32.1.2) (2020.12.5)\n",
            "Requirement already satisfied: urllib3!=1.25.0,!=1.25.1,<1.26,>=1.21.1 in /usr/local/lib/python3.7/dist-packages (from requests->h2o==3.32.1.2) (1.24.3)\n",
            "Requirement already satisfied: chardet<4,>=3.0.2 in /usr/local/lib/python3.7/dist-packages (from requests->h2o==3.32.1.2) (3.0.4)\n",
            "Installing collected packages: h2o\n",
            "Successfully installed h2o-3.32.1.2\n"
          ],
          "name": "stdout"
        }
      ]
    },
    {
      "cell_type": "code",
      "metadata": {
        "id": "Vo7tBhrj-9du"
      },
      "source": [
        "#Import H2O and other libaries that will be used in this tutorial \n",
        "import matplotlib as plt\n",
        "import pandas as pd\n",
        "%matplotlib inline\n",
        "from h2o.automl import *"
      ],
      "execution_count": null,
      "outputs": []
    },
    {
      "cell_type": "code",
      "metadata": {
        "id": "-swjt7d6-9dv"
      },
      "source": [
        "#import os\n",
        "#import h2o\n",
        "\n",
        "#startup  = '/home/h2o/bin/aquarium_startup'\n",
        "#shutdown = '/home/h2o/bin/aquarium_stop'\n",
        "\n",
        "#if os.path.exists(startup):\n",
        "#    os.system(startup)\n",
        "#    local_url = 'http://localhost:54321/h2o'\n",
        "#    aquarium = True\n",
        "#else:\n",
        "#    local_url = 'http://localhost:54321'\n",
        "#    aquarium = False"
      ],
      "execution_count": null,
      "outputs": []
    },
    {
      "cell_type": "code",
      "metadata": {
        "colab": {
          "base_uri": "https://localhost:8080/",
          "height": 510
        },
        "id": "sBOj-JFb-9dw",
        "outputId": "5d5dd5cf-68f8-402f-89b5-a3dafe591083"
      },
      "source": [
        "#h2o.init(url = local_url)\n",
        "import h2o\n",
        "h2o.init()"
      ],
      "execution_count": null,
      "outputs": [
        {
          "output_type": "stream",
          "text": [
            "Checking whether there is an H2O instance running at http://localhost:54321 ..... not found.\n",
            "Attempting to start a local H2O server...\n",
            "  Java Version: openjdk version \"11.0.11\" 2021-04-20; OpenJDK Runtime Environment (build 11.0.11+9-Ubuntu-0ubuntu2.18.04); OpenJDK 64-Bit Server VM (build 11.0.11+9-Ubuntu-0ubuntu2.18.04, mixed mode, sharing)\n",
            "  Starting server from /usr/local/lib/python3.7/dist-packages/h2o/backend/bin/h2o.jar\n",
            "  Ice root: /tmp/tmpk5z8s6hk\n",
            "  JVM stdout: /tmp/tmpk5z8s6hk/h2o_unknownUser_started_from_python.out\n",
            "  JVM stderr: /tmp/tmpk5z8s6hk/h2o_unknownUser_started_from_python.err\n",
            "  Server is running at http://127.0.0.1:54321\n",
            "Connecting to H2O server at http://127.0.0.1:54321 ... successful.\n"
          ],
          "name": "stdout"
        },
        {
          "output_type": "display_data",
          "data": {
            "text/html": [
              "<div style=\"overflow:auto\"><table style=\"width:50%\"><tr><td>H2O_cluster_uptime:</td>\n",
              "<td>03 secs</td></tr>\n",
              "<tr><td>H2O_cluster_timezone:</td>\n",
              "<td>Etc/UTC</td></tr>\n",
              "<tr><td>H2O_data_parsing_timezone:</td>\n",
              "<td>UTC</td></tr>\n",
              "<tr><td>H2O_cluster_version:</td>\n",
              "<td>3.32.1.2</td></tr>\n",
              "<tr><td>H2O_cluster_version_age:</td>\n",
              "<td>15 days </td></tr>\n",
              "<tr><td>H2O_cluster_name:</td>\n",
              "<td>H2O_from_python_unknownUser_t7604y</td></tr>\n",
              "<tr><td>H2O_cluster_total_nodes:</td>\n",
              "<td>1</td></tr>\n",
              "<tr><td>H2O_cluster_free_memory:</td>\n",
              "<td>3.174 Gb</td></tr>\n",
              "<tr><td>H2O_cluster_total_cores:</td>\n",
              "<td>2</td></tr>\n",
              "<tr><td>H2O_cluster_allowed_cores:</td>\n",
              "<td>2</td></tr>\n",
              "<tr><td>H2O_cluster_status:</td>\n",
              "<td>accepting new members, healthy</td></tr>\n",
              "<tr><td>H2O_connection_url:</td>\n",
              "<td>http://127.0.0.1:54321</td></tr>\n",
              "<tr><td>H2O_connection_proxy:</td>\n",
              "<td>{\"http\": null, \"https\": null}</td></tr>\n",
              "<tr><td>H2O_internal_security:</td>\n",
              "<td>False</td></tr>\n",
              "<tr><td>H2O_API_Extensions:</td>\n",
              "<td>Amazon S3, XGBoost, Algos, AutoML, Core V3, TargetEncoder, Core V4</td></tr>\n",
              "<tr><td>Python_version:</td>\n",
              "<td>3.7.10 final</td></tr></table></div>"
            ],
            "text/plain": [
              "--------------------------  ------------------------------------------------------------------\n",
              "H2O_cluster_uptime:         03 secs\n",
              "H2O_cluster_timezone:       Etc/UTC\n",
              "H2O_data_parsing_timezone:  UTC\n",
              "H2O_cluster_version:        3.32.1.2\n",
              "H2O_cluster_version_age:    15 days\n",
              "H2O_cluster_name:           H2O_from_python_unknownUser_t7604y\n",
              "H2O_cluster_total_nodes:    1\n",
              "H2O_cluster_free_memory:    3.174 Gb\n",
              "H2O_cluster_total_cores:    2\n",
              "H2O_cluster_allowed_cores:  2\n",
              "H2O_cluster_status:         accepting new members, healthy\n",
              "H2O_connection_url:         http://127.0.0.1:54321\n",
              "H2O_connection_proxy:       {\"http\": null, \"https\": null}\n",
              "H2O_internal_security:      False\n",
              "H2O_API_Extensions:         Amazon S3, XGBoost, Algos, AutoML, Core V3, TargetEncoder, Core V4\n",
              "Python_version:             3.7.10 final\n",
              "--------------------------  ------------------------------------------------------------------"
            ]
          },
          "metadata": {
            "tags": []
          }
        }
      ]
    },
    {
      "cell_type": "markdown",
      "metadata": {
        "id": "h-Qg2FJH-9dw"
      },
      "source": [
        "## Task 2: AutoML Concepts\n",
        "\n",
        "Please look at the document"
      ]
    },
    {
      "cell_type": "markdown",
      "metadata": {
        "id": "sjLt56cx-9dw"
      },
      "source": [
        "## Task 3: Start Experiment"
      ]
    },
    {
      "cell_type": "code",
      "metadata": {
        "colab": {
          "base_uri": "https://localhost:8080/"
        },
        "id": "U0n9RsY2-9dw",
        "outputId": "120125f5-7f53-42b9-a7bc-d4f5ad0e94d5"
      },
      "source": [
        "#Import the dataset \n",
        "loan_level = h2o.import_file(\"https://s3.amazonaws.com/data.h2o.ai/H2O-3-Tutorials/loan_level_50k.csv\")"
      ],
      "execution_count": null,
      "outputs": [
        {
          "output_type": "stream",
          "text": [
            "Parse progress: |█████████████████████████████████████████████████████████| 100%\n"
          ],
          "name": "stdout"
        }
      ]
    },
    {
      "cell_type": "code",
      "metadata": {
        "colab": {
          "base_uri": "https://localhost:8080/",
          "height": 376
        },
        "id": "DaV8RMSH-9dx",
        "outputId": "702badc6-2195-41d3-d059-be03ffc6e4c8"
      },
      "source": [
        "loan_level.head()"
      ],
      "execution_count": null,
      "outputs": [
        {
          "output_type": "display_data",
          "data": {
            "text/html": [
              "<table>\n",
              "<thead>\n",
              "<tr><th style=\"text-align: right;\">  CREDIT_SCORE</th><th style=\"text-align: right;\">  FIRST_PAYMENT_DATE</th><th>FIRST_TIME_HOMEBUYER_FLAG  </th><th style=\"text-align: right;\">  MATURITY_DATE</th><th style=\"text-align: right;\">  METROPOLITAN_STATISTICAL_AREA</th><th style=\"text-align: right;\">  MORTGAGE_INSURANCE_PERCENTAGE</th><th style=\"text-align: right;\">  NUMBER_OF_UNITS</th><th>OCCUPANCY_STATUS  </th><th style=\"text-align: right;\">  ORIGINAL_COMBINED_LOAN_TO_VALUE</th><th style=\"text-align: right;\">  ORIGINAL_DEBT_TO_INCOME_RATIO</th><th style=\"text-align: right;\">  ORIGINAL_UPB</th><th style=\"text-align: right;\">  ORIGINAL_LOAN_TO_VALUE</th><th style=\"text-align: right;\">  ORIGINAL_INTEREST_RATE</th><th>CHANNEL  </th><th>PREPAYMENT_PENALTY_MORTGAGE_FLAG  </th><th>PRODUCT_TYPE  </th><th>PROPERTY_STATE  </th><th>PROPERTY_TYPE  </th><th style=\"text-align: right;\">  POSTAL_CODE</th><th>LOAN_SEQUENCE_NUMBER  </th><th>LOAN_PURPOSE  </th><th style=\"text-align: right;\">  ORIGINAL_LOAN_TERM</th><th style=\"text-align: right;\">  NUMBER_OF_BORROWERS</th><th>SELLER_NAME         </th><th>SERVICER_NAME       </th><th>PREPAID  </th><th>DELINQUENT  </th></tr>\n",
              "</thead>\n",
              "<tbody>\n",
              "<tr><td style=\"text-align: right;\">           707</td><td style=\"text-align: right;\">              200211</td><td>N                          </td><td style=\"text-align: right;\">         202903</td><td style=\"text-align: right;\">                          33340</td><td style=\"text-align: right;\">                              0</td><td style=\"text-align: right;\">                1</td><td>O                 </td><td style=\"text-align: right;\">                               60</td><td style=\"text-align: right;\">                             57</td><td style=\"text-align: right;\">        136000</td><td style=\"text-align: right;\">                      60</td><td style=\"text-align: right;\">                   6.25 </td><td>R        </td><td>N                                 </td><td>FRM           </td><td>WI              </td><td>SF             </td><td style=\"text-align: right;\">        53000</td><td>F199Q1000018          </td><td>C             </td><td style=\"text-align: right;\">                 317</td><td style=\"text-align: right;\">                    2</td><td>Other sellers       </td><td>Other servicers     </td><td>TRUE     </td><td>FALSE       </td></tr>\n",
              "<tr><td style=\"text-align: right;\">           691</td><td style=\"text-align: right;\">              200302</td><td>N                          </td><td style=\"text-align: right;\">         202901</td><td style=\"text-align: right;\">                          15940</td><td style=\"text-align: right;\">                              0</td><td style=\"text-align: right;\">                1</td><td>O                 </td><td style=\"text-align: right;\">                               65</td><td style=\"text-align: right;\">                             25</td><td style=\"text-align: right;\">        130000</td><td style=\"text-align: right;\">                      65</td><td style=\"text-align: right;\">                   5.875</td><td>R        </td><td>N                                 </td><td>FRM           </td><td>OH              </td><td>SF             </td><td style=\"text-align: right;\">        44700</td><td>F199Q1000023          </td><td>P             </td><td style=\"text-align: right;\">                 312</td><td style=\"text-align: right;\">                    2</td><td>Other sellers       </td><td>Other servicers     </td><td>TRUE     </td><td>FALSE       </td></tr>\n",
              "<tr><td style=\"text-align: right;\">           730</td><td style=\"text-align: right;\">              199903</td><td>N                          </td><td style=\"text-align: right;\">         202902</td><td style=\"text-align: right;\">                          16620</td><td style=\"text-align: right;\">                             30</td><td style=\"text-align: right;\">                1</td><td>O                 </td><td style=\"text-align: right;\">                               94</td><td style=\"text-align: right;\">                             29</td><td style=\"text-align: right;\">        138000</td><td style=\"text-align: right;\">                      94</td><td style=\"text-align: right;\">                   7    </td><td>T        </td><td>N                                 </td><td>FRM           </td><td>WV              </td><td>SF             </td><td style=\"text-align: right;\">        25300</td><td>F199Q1000037          </td><td>P             </td><td style=\"text-align: right;\">                 360</td><td style=\"text-align: right;\">                    2</td><td>Other sellers       </td><td>Other servicers     </td><td>TRUE     </td><td>FALSE       </td></tr>\n",
              "<tr><td style=\"text-align: right;\">           638</td><td style=\"text-align: right;\">              199905</td><td>N                          </td><td style=\"text-align: right;\">         202904</td><td style=\"text-align: right;\">                          42020</td><td style=\"text-align: right;\">                            nan</td><td style=\"text-align: right;\">                1</td><td>O                 </td><td style=\"text-align: right;\">                               67</td><td style=\"text-align: right;\">                             28</td><td style=\"text-align: right;\">        160000</td><td style=\"text-align: right;\">                      67</td><td style=\"text-align: right;\">                   7.375</td><td>T        </td><td>N                                 </td><td>FRM           </td><td>CA              </td><td>SF             </td><td style=\"text-align: right;\">        93400</td><td>F199Q1000067          </td><td>N             </td><td style=\"text-align: right;\">                 360</td><td style=\"text-align: right;\">                    2</td><td>CROSSLAND MORTGAGE C</td><td>CHASEMTGECO         </td><td>TRUE     </td><td>FALSE       </td></tr>\n",
              "<tr><td style=\"text-align: right;\">           577</td><td style=\"text-align: right;\">              199903</td><td>N                          </td><td style=\"text-align: right;\">         202902</td><td style=\"text-align: right;\">                          12580</td><td style=\"text-align: right;\">                             12</td><td style=\"text-align: right;\">                1</td><td>O                 </td><td style=\"text-align: right;\">                               80</td><td style=\"text-align: right;\">                             53</td><td style=\"text-align: right;\">         43000</td><td style=\"text-align: right;\">                      80</td><td style=\"text-align: right;\">                   7.25 </td><td>T        </td><td>N                                 </td><td>FRM           </td><td>MD              </td><td>SF             </td><td style=\"text-align: right;\">        21200</td><td>F199Q1000086          </td><td>N             </td><td style=\"text-align: right;\">                 360</td><td style=\"text-align: right;\">                    1</td><td>ACCUBANC MORTGAGE CO</td><td>GMACMTGECORP        </td><td>FALSE    </td><td>TRUE        </td></tr>\n",
              "<tr><td style=\"text-align: right;\">           693</td><td style=\"text-align: right;\">              199905</td><td>N                          </td><td style=\"text-align: right;\">         202904</td><td style=\"text-align: right;\">                            nan</td><td style=\"text-align: right;\">                            nan</td><td style=\"text-align: right;\">                1</td><td>O                 </td><td style=\"text-align: right;\">                               80</td><td style=\"text-align: right;\">                             43</td><td style=\"text-align: right;\">         93000</td><td style=\"text-align: right;\">                      80</td><td style=\"text-align: right;\">                   7.125</td><td>R        </td><td>N                                 </td><td>FRM           </td><td>SD              </td><td>SF             </td><td style=\"text-align: right;\">        57500</td><td>F199Q1000104          </td><td>P             </td><td style=\"text-align: right;\">                 360</td><td style=\"text-align: right;\">                    1</td><td>NORWEST MORTGAGE, IN</td><td>WELLSFARGOHOMEMORTGA</td><td>TRUE     </td><td>FALSE       </td></tr>\n",
              "<tr><td style=\"text-align: right;\">           739</td><td style=\"text-align: right;\">              199905</td><td>                           </td><td style=\"text-align: right;\">         202904</td><td style=\"text-align: right;\">                          16700</td><td style=\"text-align: right;\">                            nan</td><td style=\"text-align: right;\">                1</td><td>S                 </td><td style=\"text-align: right;\">                               80</td><td style=\"text-align: right;\">                             25</td><td style=\"text-align: right;\">        200000</td><td style=\"text-align: right;\">                      80</td><td style=\"text-align: right;\">                   6.875</td><td>R        </td><td>N                                 </td><td>FRM           </td><td>SC              </td><td>CO             </td><td style=\"text-align: right;\">        29400</td><td>F199Q1000107          </td><td>P             </td><td style=\"text-align: right;\">                 360</td><td style=\"text-align: right;\">                    2</td><td>NORWEST MORTGAGE, IN</td><td>WELLSFARGOHOMEMORTGA</td><td>TRUE     </td><td>FALSE       </td></tr>\n",
              "<tr><td style=\"text-align: right;\">           695</td><td style=\"text-align: right;\">              199905</td><td>                           </td><td style=\"text-align: right;\">         202904</td><td style=\"text-align: right;\">                          42044</td><td style=\"text-align: right;\">                              0</td><td style=\"text-align: right;\">                1</td><td>O                 </td><td style=\"text-align: right;\">                               40</td><td style=\"text-align: right;\">                              6</td><td style=\"text-align: right;\">        135000</td><td style=\"text-align: right;\">                      40</td><td style=\"text-align: right;\">                   6.875</td><td>R        </td><td>N                                 </td><td>FRM           </td><td>CA              </td><td>SF             </td><td style=\"text-align: right;\">        92800</td><td>F199Q1000121          </td><td>C             </td><td style=\"text-align: right;\">                 360</td><td style=\"text-align: right;\">                    2</td><td>NATIONSBANC MORTGAGE</td><td>BAMORTGAGE,LLC      </td><td>TRUE     </td><td>FALSE       </td></tr>\n",
              "<tr><td style=\"text-align: right;\">           753</td><td style=\"text-align: right;\">              199905</td><td>N                          </td><td style=\"text-align: right;\">         202904</td><td style=\"text-align: right;\">                          41740</td><td style=\"text-align: right;\">                              0</td><td style=\"text-align: right;\">                1</td><td>O                 </td><td style=\"text-align: right;\">                               80</td><td style=\"text-align: right;\">                             17</td><td style=\"text-align: right;\">         59000</td><td style=\"text-align: right;\">                      80</td><td style=\"text-align: right;\">                   7    </td><td>R        </td><td>N                                 </td><td>FRM           </td><td>CA              </td><td>CO             </td><td style=\"text-align: right;\">        92000</td><td>F199Q1000122          </td><td>P             </td><td style=\"text-align: right;\">                 360</td><td style=\"text-align: right;\">                    1</td><td>NATIONSBANC MORTGAGE</td><td>BAMORTGAGE,LLC      </td><td>TRUE     </td><td>FALSE       </td></tr>\n",
              "<tr><td style=\"text-align: right;\">           712</td><td style=\"text-align: right;\">              199905</td><td>                           </td><td style=\"text-align: right;\">         202904</td><td style=\"text-align: right;\">                            nan</td><td style=\"text-align: right;\">                            nan</td><td style=\"text-align: right;\">                1</td><td>O                 </td><td style=\"text-align: right;\">                               80</td><td style=\"text-align: right;\">                             28</td><td style=\"text-align: right;\">        126000</td><td style=\"text-align: right;\">                      80</td><td style=\"text-align: right;\">                   7.125</td><td>R        </td><td>N                                 </td><td>FRM           </td><td>MI              </td><td>SF             </td><td style=\"text-align: right;\">        48800</td><td>F199Q1000123          </td><td>N             </td><td style=\"text-align: right;\">                 360</td><td style=\"text-align: right;\">                    2</td><td>Other sellers       </td><td>Other servicers     </td><td>TRUE     </td><td>FALSE       </td></tr>\n",
              "</tbody>\n",
              "</table>"
            ]
          },
          "metadata": {
            "tags": []
          }
        },
        {
          "output_type": "execute_result",
          "data": {
            "text/plain": [
              ""
            ]
          },
          "metadata": {
            "tags": []
          },
          "execution_count": 7
        }
      ]
    },
    {
      "cell_type": "code",
      "metadata": {
        "colab": {
          "base_uri": "https://localhost:8080/",
          "height": 583
        },
        "id": "6ajQdJA--9dx",
        "outputId": "e9b735d2-ac0a-42cf-8d78-8b577ce98f69"
      },
      "source": [
        "loan_level.describe()"
      ],
      "execution_count": null,
      "outputs": [
        {
          "output_type": "stream",
          "text": [
            "Rows:49930\n",
            "Cols:27\n",
            "\n",
            "\n"
          ],
          "name": "stdout"
        },
        {
          "output_type": "display_data",
          "data": {
            "text/html": [
              "<table>\n",
              "<thead>\n",
              "<tr><th>       </th><th>CREDIT_SCORE     </th><th>FIRST_PAYMENT_DATE  </th><th>FIRST_TIME_HOMEBUYER_FLAG  </th><th>MATURITY_DATE     </th><th>METROPOLITAN_STATISTICAL_AREA  </th><th>MORTGAGE_INSURANCE_PERCENTAGE  </th><th>NUMBER_OF_UNITS    </th><th>OCCUPANCY_STATUS  </th><th>ORIGINAL_COMBINED_LOAN_TO_VALUE  </th><th>ORIGINAL_DEBT_TO_INCOME_RATIO  </th><th>ORIGINAL_UPB     </th><th>ORIGINAL_LOAN_TO_VALUE  </th><th>ORIGINAL_INTEREST_RATE  </th><th>CHANNEL  </th><th>PREPAYMENT_PENALTY_MORTGAGE_FLAG  </th><th>PRODUCT_TYPE  </th><th>PROPERTY_STATE  </th><th>PROPERTY_TYPE  </th><th>POSTAL_CODE       </th><th>LOAN_SEQUENCE_NUMBER  </th><th>LOAN_PURPOSE  </th><th>ORIGINAL_LOAN_TERM  </th><th>NUMBER_OF_BORROWERS  </th><th>SELLER_NAME         </th><th>SERVICER_NAME       </th><th>PREPAID  </th><th>DELINQUENT  </th></tr>\n",
              "</thead>\n",
              "<tbody>\n",
              "<tr><td>type   </td><td>int              </td><td>int                 </td><td>enum                       </td><td>int               </td><td>int                            </td><td>int                            </td><td>int                </td><td>enum              </td><td>int                              </td><td>int                            </td><td>int              </td><td>int                     </td><td>real                    </td><td>enum     </td><td>enum                              </td><td>enum          </td><td>enum            </td><td>enum           </td><td>int               </td><td>string                </td><td>enum          </td><td>int                 </td><td>int                  </td><td>enum                </td><td>enum                </td><td>enum     </td><td>enum        </td></tr>\n",
              "<tr><td>mins   </td><td>300.0            </td><td>199902.0            </td><td>                           </td><td>202404.0          </td><td>10180.0                        </td><td>0.0                            </td><td>1.0                </td><td>                  </td><td>6.0                              </td><td>1.0                            </td><td>10000.0          </td><td>6.0                     </td><td>5.0                     </td><td>         </td><td>                                  </td><td>              </td><td>                </td><td>               </td><td>600.0             </td><td>NaN                   </td><td>              </td><td>301.0               </td><td>1.0                  </td><td>                    </td><td>                    </td><td>         </td><td>            </td></tr>\n",
              "<tr><td>mean   </td><td>712.3066000684777</td><td>200025.6742239134   </td><td>                           </td><td>203023.3970759064 </td><td>30705.258665299156             </td><td>7.719609503855924              </td><td>1.0281994792709799 </td><td>                  </td><td>76.08864765261984                </td><td>32.83933763635985              </td><td>136369.6775485679</td><td>75.7452382382984        </td><td>7.185977708792308       </td><td>         </td><td>                                  </td><td>              </td><td>                </td><td>               </td><td>55401.434122501334</td><td>NaN                   </td><td>              </td><td>359.85083116362875  </td><td>1.6294507784479122   </td><td>                    </td><td>                    </td><td>         </td><td>            </td></tr>\n",
              "<tr><td>maxs   </td><td>830.0            </td><td>200403.0            </td><td>                           </td><td>203312.0          </td><td>49740.0                        </td><td>50.0                           </td><td>4.0                </td><td>                  </td><td>160.0                            </td><td>65.0                           </td><td>529000.0         </td><td>100.0                   </td><td>10.625                  </td><td>         </td><td>                                  </td><td>              </td><td>                </td><td>               </td><td>99900.0           </td><td>NaN                   </td><td>              </td><td>361.0               </td><td>2.0                  </td><td>                    </td><td>                    </td><td>         </td><td>            </td></tr>\n",
              "<tr><td>sigma  </td><td>54.97355321804355</td><td>109.77460105158103  </td><td>                           </td><td>110.47953133322676</td><td>11363.12482267641              </td><td>12.042273590466618             </td><td>0.21962330364819396</td><td>                  </td><td>15.062080123474091               </td><td>11.16538336497283              </td><td>60632.74328123587</td><td>14.867228331350553      </td><td>0.5835949914330252      </td><td>         </td><td>                                  </td><td>              </td><td>                </td><td>               </td><td>29512.32285922538 </td><td>NaN                   </td><td>              </td><td>1.9974697613404884  </td><td>0.48295669536262226  </td><td>                    </td><td>                    </td><td>         </td><td>            </td></tr>\n",
              "<tr><td>zeros  </td><td>0                </td><td>0                   </td><td>                           </td><td>0                 </td><td>0                              </td><td>31023                          </td><td>0                  </td><td>                  </td><td>0                                </td><td>0                              </td><td>0                </td><td>0                       </td><td>0                       </td><td>         </td><td>                                  </td><td>              </td><td>                </td><td>               </td><td>0                 </td><td>0                     </td><td>              </td><td>0                   </td><td>0                    </td><td>                    </td><td>                    </td><td>         </td><td>            </td></tr>\n",
              "<tr><td>missing</td><td>279              </td><td>0                   </td><td>13067                      </td><td>0                 </td><td>7029                           </td><td>5064                           </td><td>0                  </td><td>0                 </td><td>2                                </td><td>1437                           </td><td>0                </td><td>1                       </td><td>0                       </td><td>0        </td><td>504                               </td><td>0             </td><td>0               </td><td>13             </td><td>4                 </td><td>0                     </td><td>0             </td><td>0                   </td><td>23                   </td><td>0                   </td><td>0                   </td><td>0        </td><td>0           </td></tr>\n",
              "<tr><td>0      </td><td>707.0            </td><td>200211.0            </td><td>N                          </td><td>202903.0          </td><td>33340.0                        </td><td>0.0                            </td><td>1.0                </td><td>O                 </td><td>60.0                             </td><td>57.0                           </td><td>136000.0         </td><td>60.0                    </td><td>6.25                    </td><td>R        </td><td>N                                 </td><td>FRM           </td><td>WI              </td><td>SF             </td><td>53000.0           </td><td>F199Q1000018          </td><td>C             </td><td>317.0               </td><td>2.0                  </td><td>Other sellers       </td><td>Other servicers     </td><td>TRUE     </td><td>FALSE       </td></tr>\n",
              "<tr><td>1      </td><td>691.0            </td><td>200302.0            </td><td>N                          </td><td>202901.0          </td><td>15940.0                        </td><td>0.0                            </td><td>1.0                </td><td>O                 </td><td>65.0                             </td><td>25.0                           </td><td>130000.0         </td><td>65.0                    </td><td>5.875                   </td><td>R        </td><td>N                                 </td><td>FRM           </td><td>OH              </td><td>SF             </td><td>44700.0           </td><td>F199Q1000023          </td><td>P             </td><td>312.0               </td><td>2.0                  </td><td>Other sellers       </td><td>Other servicers     </td><td>TRUE     </td><td>FALSE       </td></tr>\n",
              "<tr><td>2      </td><td>730.0            </td><td>199903.0            </td><td>N                          </td><td>202902.0          </td><td>16620.0                        </td><td>30.0                           </td><td>1.0                </td><td>O                 </td><td>94.0                             </td><td>29.0                           </td><td>138000.0         </td><td>94.0                    </td><td>7.0                     </td><td>T        </td><td>N                                 </td><td>FRM           </td><td>WV              </td><td>SF             </td><td>25300.0           </td><td>F199Q1000037          </td><td>P             </td><td>360.0               </td><td>2.0                  </td><td>Other sellers       </td><td>Other servicers     </td><td>TRUE     </td><td>FALSE       </td></tr>\n",
              "<tr><td>3      </td><td>638.0            </td><td>199905.0            </td><td>N                          </td><td>202904.0          </td><td>42020.0                        </td><td>nan                            </td><td>1.0                </td><td>O                 </td><td>67.0                             </td><td>28.0                           </td><td>160000.0         </td><td>67.0                    </td><td>7.375                   </td><td>T        </td><td>N                                 </td><td>FRM           </td><td>CA              </td><td>SF             </td><td>93400.0           </td><td>F199Q1000067          </td><td>N             </td><td>360.0               </td><td>2.0                  </td><td>CROSSLAND MORTGAGE C</td><td>CHASEMTGECO         </td><td>TRUE     </td><td>FALSE       </td></tr>\n",
              "<tr><td>4      </td><td>577.0            </td><td>199903.0            </td><td>N                          </td><td>202902.0          </td><td>12580.0                        </td><td>12.0                           </td><td>1.0                </td><td>O                 </td><td>80.0                             </td><td>53.0                           </td><td>43000.0          </td><td>80.0                    </td><td>7.25                    </td><td>T        </td><td>N                                 </td><td>FRM           </td><td>MD              </td><td>SF             </td><td>21200.0           </td><td>F199Q1000086          </td><td>N             </td><td>360.0               </td><td>1.0                  </td><td>ACCUBANC MORTGAGE CO</td><td>GMACMTGECORP        </td><td>FALSE    </td><td>TRUE        </td></tr>\n",
              "<tr><td>5      </td><td>693.0            </td><td>199905.0            </td><td>N                          </td><td>202904.0          </td><td>nan                            </td><td>nan                            </td><td>1.0                </td><td>O                 </td><td>80.0                             </td><td>43.0                           </td><td>93000.0          </td><td>80.0                    </td><td>7.125                   </td><td>R        </td><td>N                                 </td><td>FRM           </td><td>SD              </td><td>SF             </td><td>57500.0           </td><td>F199Q1000104          </td><td>P             </td><td>360.0               </td><td>1.0                  </td><td>NORWEST MORTGAGE, IN</td><td>WELLSFARGOHOMEMORTGA</td><td>TRUE     </td><td>FALSE       </td></tr>\n",
              "<tr><td>6      </td><td>739.0            </td><td>199905.0            </td><td>                           </td><td>202904.0          </td><td>16700.0                        </td><td>nan                            </td><td>1.0                </td><td>S                 </td><td>80.0                             </td><td>25.0                           </td><td>200000.0         </td><td>80.0                    </td><td>6.875                   </td><td>R        </td><td>N                                 </td><td>FRM           </td><td>SC              </td><td>CO             </td><td>29400.0           </td><td>F199Q1000107          </td><td>P             </td><td>360.0               </td><td>2.0                  </td><td>NORWEST MORTGAGE, IN</td><td>WELLSFARGOHOMEMORTGA</td><td>TRUE     </td><td>FALSE       </td></tr>\n",
              "<tr><td>7      </td><td>695.0            </td><td>199905.0            </td><td>                           </td><td>202904.0          </td><td>42044.0                        </td><td>0.0                            </td><td>1.0                </td><td>O                 </td><td>40.0                             </td><td>6.0                            </td><td>135000.0         </td><td>40.0                    </td><td>6.875                   </td><td>R        </td><td>N                                 </td><td>FRM           </td><td>CA              </td><td>SF             </td><td>92800.0           </td><td>F199Q1000121          </td><td>C             </td><td>360.0               </td><td>2.0                  </td><td>NATIONSBANC MORTGAGE</td><td>BAMORTGAGE,LLC      </td><td>TRUE     </td><td>FALSE       </td></tr>\n",
              "<tr><td>8      </td><td>753.0            </td><td>199905.0            </td><td>N                          </td><td>202904.0          </td><td>41740.0                        </td><td>0.0                            </td><td>1.0                </td><td>O                 </td><td>80.0                             </td><td>17.0                           </td><td>59000.0          </td><td>80.0                    </td><td>7.0                     </td><td>R        </td><td>N                                 </td><td>FRM           </td><td>CA              </td><td>CO             </td><td>92000.0           </td><td>F199Q1000122          </td><td>P             </td><td>360.0               </td><td>1.0                  </td><td>NATIONSBANC MORTGAGE</td><td>BAMORTGAGE,LLC      </td><td>TRUE     </td><td>FALSE       </td></tr>\n",
              "<tr><td>9      </td><td>712.0            </td><td>199905.0            </td><td>                           </td><td>202904.0          </td><td>nan                            </td><td>nan                            </td><td>1.0                </td><td>O                 </td><td>80.0                             </td><td>28.0                           </td><td>126000.0         </td><td>80.0                    </td><td>7.125                   </td><td>R        </td><td>N                                 </td><td>FRM           </td><td>MI              </td><td>SF             </td><td>48800.0           </td><td>F199Q1000123          </td><td>N             </td><td>360.0               </td><td>2.0                  </td><td>Other sellers       </td><td>Other servicers     </td><td>TRUE     </td><td>FALSE       </td></tr>\n",
              "</tbody>\n",
              "</table>"
            ]
          },
          "metadata": {
            "tags": []
          }
        }
      ]
    },
    {
      "cell_type": "code",
      "metadata": {
        "colab": {
          "base_uri": "https://localhost:8080/",
          "height": 78
        },
        "id": "Np-g9w8K-9dx",
        "outputId": "b859879c-2db3-43dd-a4fc-8dd252f711e0"
      },
      "source": [
        "loan_level[\"DELINQUENT\"].table()"
      ],
      "execution_count": null,
      "outputs": [
        {
          "output_type": "display_data",
          "data": {
            "text/html": [
              "<table>\n",
              "<thead>\n",
              "<tr><th>DELINQUENT  </th><th style=\"text-align: right;\">  Count</th></tr>\n",
              "</thead>\n",
              "<tbody>\n",
              "<tr><td>FALSE       </td><td style=\"text-align: right;\">  48118</td></tr>\n",
              "<tr><td>TRUE        </td><td style=\"text-align: right;\">   1812</td></tr>\n",
              "</tbody>\n",
              "</table>"
            ]
          },
          "metadata": {
            "tags": []
          }
        },
        {
          "output_type": "execute_result",
          "data": {
            "text/plain": [
              ""
            ]
          },
          "metadata": {
            "tags": []
          },
          "execution_count": 9
        }
      ]
    },
    {
      "cell_type": "code",
      "metadata": {
        "colab": {
          "base_uri": "https://localhost:8080/",
          "height": 296
        },
        "id": "d6u8oRb8-9dx",
        "outputId": "5417293a-2766-40de-d49a-dfeff33dd80f"
      },
      "source": [
        "loan_level[\"ORIGINAL_INTEREST_RATE\"].hist()"
      ],
      "execution_count": null,
      "outputs": [
        {
          "output_type": "display_data",
          "data": {
            "image/png": "[encoded data removed]",
            "text/plain": [
              "<Figure size 432x288 with 1 Axes>"
            ]
          },
          "metadata": {
            "tags": [],
            "needs_background": "light"
          }
        }
      ]
    },
    {
      "cell_type": "code",
      "metadata": {
        "id": "1gci7Kws-9dy"
      },
      "source": [
        "train, test = loan_level.split_frame([0.8], seed = 42)"
      ],
      "execution_count": null,
      "outputs": []
    },
    {
      "cell_type": "code",
      "metadata": {
        "colab": {
          "base_uri": "https://localhost:8080/"
        },
        "id": "e3NFHDv3-9dy",
        "outputId": "c34b1dad-fb8c-48bd-a633-0b42b586ebcc"
      },
      "source": [
        "print(\"train:%d test:%d\" % (train.nrows, test.nrows))"
      ],
      "execution_count": null,
      "outputs": [
        {
          "output_type": "stream",
          "text": [
            "train:39984 test:9946\n"
          ],
          "name": "stdout"
        }
      ]
    },
    {
      "cell_type": "markdown",
      "metadata": {
        "id": "KSz4qkfU-9dy"
      },
      "source": [
        "## Task 4: H2O AutoML Classification"
      ]
    },
    {
      "cell_type": "code",
      "metadata": {
        "id": "_og1NsBp-9dy"
      },
      "source": [
        "y = \"DELINQUENT\"\n",
        "\n",
        "ignore = [\"DELINQUENT\", \n",
        "          \"PREPAID\", \n",
        "          \"PREPAYMENT_PENALTY_MORTGAGE_FLAG\", \n",
        "          \"PRODUCT_TYPE\"] \n",
        "\n",
        "x = list(set(train.names) - set(ignore))"
      ],
      "execution_count": null,
      "outputs": []
    },
    {
      "cell_type": "code",
      "metadata": {
        "colab": {
          "base_uri": "https://localhost:8080/",
          "height": 78
        },
        "id": "vZ2GAaQM-9dz",
        "outputId": "76a3a1b5-81ff-4bf3-8e5e-c7c27b42031e"
      },
      "source": [
        "test[\"DELINQUENT\"].table()"
      ],
      "execution_count": null,
      "outputs": [
        {
          "output_type": "display_data",
          "data": {
            "text/html": [
              "<table>\n",
              "<thead>\n",
              "<tr><th>DELINQUENT  </th><th style=\"text-align: right;\">  Count</th></tr>\n",
              "</thead>\n",
              "<tbody>\n",
              "<tr><td>FALSE       </td><td style=\"text-align: right;\">   9551</td></tr>\n",
              "<tr><td>TRUE        </td><td style=\"text-align: right;\">    395</td></tr>\n",
              "</tbody>\n",
              "</table>"
            ]
          },
          "metadata": {
            "tags": []
          }
        },
        {
          "output_type": "execute_result",
          "data": {
            "text/plain": [
              ""
            ]
          },
          "metadata": {
            "tags": []
          },
          "execution_count": 14
        }
      ]
    },
    {
      "cell_type": "code",
      "metadata": {
        "colab": {
          "base_uri": "https://localhost:8080/"
        },
        "id": "sM057PE--9dz",
        "outputId": "36feff39-ea27-4fb7-c709-4cffdbd547f0"
      },
      "source": [
        "aml = H2OAutoML(max_models = 25, max_runtime_secs_per_model = 30, seed = 42, \n",
        "                project_name = 'classification', balance_classes = True, \n",
        "                class_sampling_factors = [0.5, 1.25])\n",
        "\n",
        "%time aml.train(x = x, y = y, training_frame = train)"
      ],
      "execution_count": null,
      "outputs": [
        {
          "output_type": "stream",
          "text": [
            "AutoML progress: |████████████████████████████████████████████████████████| 100%\n",
            "CPU times: user 28.5 s, sys: 1.25 s, total: 29.7 s\n",
            "Wall time: 10min 50s\n"
          ],
          "name": "stdout"
        }
      ]
    },
    {
      "cell_type": "code",
      "metadata": {
        "colab": {
          "base_uri": "https://localhost:8080/",
          "height": 578
        },
        "id": "JAKl0aVG-9dz",
        "outputId": "817a03f1-d26f-4f07-99c1-0b780495570b"
      },
      "source": [
        "lb = aml.leaderboard\n",
        "lb.head(rows = lb.nrows)"
      ],
      "execution_count": null,
      "outputs": [
        {
          "output_type": "display_data",
          "data": {
            "text/html": [
              "<table>\n",
              "<thead>\n",
              "<tr><th>model_id                                           </th><th style=\"text-align: right;\">     auc</th><th style=\"text-align: right;\">  logloss</th><th style=\"text-align: right;\">   aucpr</th><th style=\"text-align: right;\">  mean_per_class_error</th><th style=\"text-align: right;\">    rmse</th><th style=\"text-align: right;\">      mse</th></tr>\n",
              "</thead>\n",
              "<tbody>\n",
              "<tr><td>StackedEnsemble_AllModels_AutoML_20210514_223352   </td><td style=\"text-align: right;\">0.860839</td><td style=\"text-align: right;\"> 0.117932</td><td style=\"text-align: right;\">0.23514 </td><td style=\"text-align: right;\">              0.30515 </td><td style=\"text-align: right;\">0.173645</td><td style=\"text-align: right;\">0.0301527</td></tr>\n",
              "<tr><td>StackedEnsemble_BestOfFamily_AutoML_20210514_223352</td><td style=\"text-align: right;\">0.859785</td><td style=\"text-align: right;\"> 0.118271</td><td style=\"text-align: right;\">0.231592</td><td style=\"text-align: right;\">              0.318419</td><td style=\"text-align: right;\">0.173876</td><td style=\"text-align: right;\">0.030233 </td></tr>\n",
              "<tr><td>GLM_1_AutoML_20210514_223352                       </td><td style=\"text-align: right;\">0.853877</td><td style=\"text-align: right;\"> 0.120899</td><td style=\"text-align: right;\">0.205956</td><td style=\"text-align: right;\">              0.336445</td><td style=\"text-align: right;\">0.175755</td><td style=\"text-align: right;\">0.0308898</td></tr>\n",
              "<tr><td>XGBoost_3_AutoML_20210514_223352                   </td><td style=\"text-align: right;\">0.850206</td><td style=\"text-align: right;\"> 0.121016</td><td style=\"text-align: right;\">0.217804</td><td style=\"text-align: right;\">              0.319812</td><td style=\"text-align: right;\">0.175142</td><td style=\"text-align: right;\">0.0306747</td></tr>\n",
              "<tr><td>GBM_grid__1_AutoML_20210514_223352_model_3         </td><td style=\"text-align: right;\">0.846733</td><td style=\"text-align: right;\"> 0.121796</td><td style=\"text-align: right;\">0.215528</td><td style=\"text-align: right;\">              0.333045</td><td style=\"text-align: right;\">0.175333</td><td style=\"text-align: right;\">0.0307416</td></tr>\n",
              "<tr><td>GBM_1_AutoML_20210514_223352                       </td><td style=\"text-align: right;\">0.843329</td><td style=\"text-align: right;\"> 0.124678</td><td style=\"text-align: right;\">0.199057</td><td style=\"text-align: right;\">              0.333359</td><td style=\"text-align: right;\">0.176961</td><td style=\"text-align: right;\">0.0313153</td></tr>\n",
              "<tr><td>GBM_5_AutoML_20210514_223352                       </td><td style=\"text-align: right;\">0.839494</td><td style=\"text-align: right;\"> 0.125391</td><td style=\"text-align: right;\">0.197529</td><td style=\"text-align: right;\">              0.349592</td><td style=\"text-align: right;\">0.177011</td><td style=\"text-align: right;\">0.0313329</td></tr>\n",
              "<tr><td>XGBoost_2_AutoML_20210514_223352                   </td><td style=\"text-align: right;\">0.839366</td><td style=\"text-align: right;\"> 0.124996</td><td style=\"text-align: right;\">0.195061</td><td style=\"text-align: right;\">              0.324122</td><td style=\"text-align: right;\">0.177739</td><td style=\"text-align: right;\">0.0315911</td></tr>\n",
              "<tr><td>GBM_grid__1_AutoML_20210514_223352_model_2         </td><td style=\"text-align: right;\">0.839131</td><td style=\"text-align: right;\"> 0.123741</td><td style=\"text-align: right;\">0.207958</td><td style=\"text-align: right;\">              0.324447</td><td style=\"text-align: right;\">0.175961</td><td style=\"text-align: right;\">0.0309624</td></tr>\n",
              "<tr><td>GBM_2_AutoML_20210514_223352                       </td><td style=\"text-align: right;\">0.838989</td><td style=\"text-align: right;\"> 0.127064</td><td style=\"text-align: right;\">0.190581</td><td style=\"text-align: right;\">              0.332059</td><td style=\"text-align: right;\">0.178073</td><td style=\"text-align: right;\">0.03171  </td></tr>\n",
              "<tr><td>GBM_3_AutoML_20210514_223352                       </td><td style=\"text-align: right;\">0.837954</td><td style=\"text-align: right;\"> 0.127982</td><td style=\"text-align: right;\">0.19516 </td><td style=\"text-align: right;\">              0.309134</td><td style=\"text-align: right;\">0.177758</td><td style=\"text-align: right;\">0.031598 </td></tr>\n",
              "<tr><td>XGBoost_grid__1_AutoML_20210514_223352_model_4     </td><td style=\"text-align: right;\">0.83594 </td><td style=\"text-align: right;\"> 0.126414</td><td style=\"text-align: right;\">0.194556</td><td style=\"text-align: right;\">              0.329882</td><td style=\"text-align: right;\">0.177492</td><td style=\"text-align: right;\">0.0315033</td></tr>\n",
              "<tr><td>XGBoost_grid__1_AutoML_20210514_223352_model_6     </td><td style=\"text-align: right;\">0.835836</td><td style=\"text-align: right;\"> 0.125136</td><td style=\"text-align: right;\">0.202238</td><td style=\"text-align: right;\">              0.328343</td><td style=\"text-align: right;\">0.176917</td><td style=\"text-align: right;\">0.0312997</td></tr>\n",
              "<tr><td>XGBoost_grid__1_AutoML_20210514_223352_model_1     </td><td style=\"text-align: right;\">0.834935</td><td style=\"text-align: right;\"> 0.126556</td><td style=\"text-align: right;\">0.193717</td><td style=\"text-align: right;\">              0.334478</td><td style=\"text-align: right;\">0.17769 </td><td style=\"text-align: right;\">0.0315736</td></tr>\n",
              "<tr><td>DeepLearning_1_AutoML_20210514_223352              </td><td style=\"text-align: right;\">0.834653</td><td style=\"text-align: right;\"> 0.126322</td><td style=\"text-align: right;\">0.185755</td><td style=\"text-align: right;\">              0.350133</td><td style=\"text-align: right;\">0.177218</td><td style=\"text-align: right;\">0.0314062</td></tr>\n",
              "<tr><td>XGBoost_grid__1_AutoML_20210514_223352_model_3     </td><td style=\"text-align: right;\">0.832585</td><td style=\"text-align: right;\"> 0.126605</td><td style=\"text-align: right;\">0.191629</td><td style=\"text-align: right;\">              0.345693</td><td style=\"text-align: right;\">0.177883</td><td style=\"text-align: right;\">0.0316422</td></tr>\n",
              "<tr><td>XGBoost_1_AutoML_20210514_223352                   </td><td style=\"text-align: right;\">0.832131</td><td style=\"text-align: right;\"> 0.126095</td><td style=\"text-align: right;\">0.188304</td><td style=\"text-align: right;\">              0.334091</td><td style=\"text-align: right;\">0.177768</td><td style=\"text-align: right;\">0.0316013</td></tr>\n",
              "<tr><td>GBM_4_AutoML_20210514_223352                       </td><td style=\"text-align: right;\">0.831987</td><td style=\"text-align: right;\"> 0.132918</td><td style=\"text-align: right;\">0.186992</td><td style=\"text-align: right;\">              0.362654</td><td style=\"text-align: right;\">0.178691</td><td style=\"text-align: right;\">0.0319305</td></tr>\n",
              "<tr><td>GBM_grid__1_AutoML_20210514_223352_model_1         </td><td style=\"text-align: right;\">0.831857</td><td style=\"text-align: right;\"> 0.132649</td><td style=\"text-align: right;\">0.188392</td><td style=\"text-align: right;\">              0.343328</td><td style=\"text-align: right;\">0.178648</td><td style=\"text-align: right;\">0.0319153</td></tr>\n",
              "<tr><td>DeepLearning_grid__1_AutoML_20210514_223352_model_1</td><td style=\"text-align: right;\">0.83159 </td><td style=\"text-align: right;\"> 0.1339  </td><td style=\"text-align: right;\">0.183553</td><td style=\"text-align: right;\">              0.348187</td><td style=\"text-align: right;\">0.178246</td><td style=\"text-align: right;\">0.0317718</td></tr>\n",
              "<tr><td>XGBoost_grid__1_AutoML_20210514_223352_model_5     </td><td style=\"text-align: right;\">0.829606</td><td style=\"text-align: right;\"> 0.130232</td><td style=\"text-align: right;\">0.19177 </td><td style=\"text-align: right;\">              0.356153</td><td style=\"text-align: right;\">0.178288</td><td style=\"text-align: right;\">0.0317867</td></tr>\n",
              "<tr><td>DeepLearning_grid__2_AutoML_20210514_223352_model_1</td><td style=\"text-align: right;\">0.827091</td><td style=\"text-align: right;\"> 0.152549</td><td style=\"text-align: right;\">0.160012</td><td style=\"text-align: right;\">              0.333751</td><td style=\"text-align: right;\">0.181603</td><td style=\"text-align: right;\">0.0329798</td></tr>\n",
              "<tr><td>XGBoost_grid__1_AutoML_20210514_223352_model_2     </td><td style=\"text-align: right;\">0.818027</td><td style=\"text-align: right;\"> 0.134013</td><td style=\"text-align: right;\">0.180989</td><td style=\"text-align: right;\">              0.348844</td><td style=\"text-align: right;\">0.180282</td><td style=\"text-align: right;\">0.0325015</td></tr>\n",
              "<tr><td>GBM_grid__1_AutoML_20210514_223352_model_4         </td><td style=\"text-align: right;\">0.817493</td><td style=\"text-align: right;\"> 0.142272</td><td style=\"text-align: right;\">0.171155</td><td style=\"text-align: right;\">              0.354881</td><td style=\"text-align: right;\">0.181908</td><td style=\"text-align: right;\">0.0330906</td></tr>\n",
              "<tr><td>DeepLearning_grid__3_AutoML_20210514_223352_model_1</td><td style=\"text-align: right;\">0.814239</td><td style=\"text-align: right;\"> 0.149106</td><td style=\"text-align: right;\">0.141975</td><td style=\"text-align: right;\">              0.360825</td><td style=\"text-align: right;\">0.182922</td><td style=\"text-align: right;\">0.0334603</td></tr>\n",
              "<tr><td>DRF_1_AutoML_20210514_223352                       </td><td style=\"text-align: right;\">0.813141</td><td style=\"text-align: right;\"> 0.185069</td><td style=\"text-align: right;\">0.196393</td><td style=\"text-align: right;\">              0.349866</td><td style=\"text-align: right;\">0.176424</td><td style=\"text-align: right;\">0.0311254</td></tr>\n",
              "<tr><td>XRT_1_AutoML_20210514_223352                       </td><td style=\"text-align: right;\">0.809495</td><td style=\"text-align: right;\"> 0.132235</td><td style=\"text-align: right;\">0.156454</td><td style=\"text-align: right;\">              0.33005 </td><td style=\"text-align: right;\">0.178659</td><td style=\"text-align: right;\">0.0319192</td></tr>\n",
              "</tbody>\n",
              "</table>"
            ]
          },
          "metadata": {
            "tags": []
          }
        },
        {
          "output_type": "execute_result",
          "data": {
            "text/plain": [
              ""
            ]
          },
          "metadata": {
            "tags": []
          },
          "execution_count": 16
        }
      ]
    },
    {
      "cell_type": "code",
      "metadata": {
        "colab": {
          "base_uri": "https://localhost:8080/",
          "height": 578
        },
        "id": "V-AM8C6R-9dz",
        "scrolled": false,
        "outputId": "607fe9f9-7ecb-465d-ff00-0ce726886720"
      },
      "source": [
        "#Bonus new feature in AutoML, rel 3.28\n",
        "lb2 = get_leaderboard(aml, extra_columns = 'ALL')\n",
        "lb2.head(rows = lb2.nrows)"
      ],
      "execution_count": null,
      "outputs": [
        {
          "output_type": "display_data",
          "data": {
            "text/html": [
              "<table>\n",
              "<thead>\n",
              "<tr><th>model_id                                           </th><th style=\"text-align: right;\">     auc</th><th style=\"text-align: right;\">  logloss</th><th style=\"text-align: right;\">   aucpr</th><th style=\"text-align: right;\">  mean_per_class_error</th><th style=\"text-align: right;\">    rmse</th><th style=\"text-align: right;\">      mse</th><th style=\"text-align: right;\">  training_time_ms</th><th style=\"text-align: right;\">  predict_time_per_row_ms</th><th>algo           </th></tr>\n",
              "</thead>\n",
              "<tbody>\n",
              "<tr><td>StackedEnsemble_AllModels_AutoML_20210514_223352   </td><td style=\"text-align: right;\">0.860839</td><td style=\"text-align: right;\"> 0.117932</td><td style=\"text-align: right;\">0.23514 </td><td style=\"text-align: right;\">              0.30515 </td><td style=\"text-align: right;\">0.173645</td><td style=\"text-align: right;\">0.0301527</td><td style=\"text-align: right;\">              9721</td><td style=\"text-align: right;\">                 0.136661</td><td>StackedEnsemble</td></tr>\n",
              "<tr><td>StackedEnsemble_BestOfFamily_AutoML_20210514_223352</td><td style=\"text-align: right;\">0.859785</td><td style=\"text-align: right;\"> 0.118271</td><td style=\"text-align: right;\">0.231592</td><td style=\"text-align: right;\">              0.318419</td><td style=\"text-align: right;\">0.173876</td><td style=\"text-align: right;\">0.030233 </td><td style=\"text-align: right;\">              5917</td><td style=\"text-align: right;\">                 0.062069</td><td>StackedEnsemble</td></tr>\n",
              "<tr><td>GLM_1_AutoML_20210514_223352                       </td><td style=\"text-align: right;\">0.853877</td><td style=\"text-align: right;\"> 0.120899</td><td style=\"text-align: right;\">0.205956</td><td style=\"text-align: right;\">              0.336445</td><td style=\"text-align: right;\">0.175755</td><td style=\"text-align: right;\">0.0308898</td><td style=\"text-align: right;\">             11358</td><td style=\"text-align: right;\">                 0.001712</td><td>GLM            </td></tr>\n",
              "<tr><td>XGBoost_3_AutoML_20210514_223352                   </td><td style=\"text-align: right;\">0.850206</td><td style=\"text-align: right;\"> 0.121016</td><td style=\"text-align: right;\">0.217804</td><td style=\"text-align: right;\">              0.319812</td><td style=\"text-align: right;\">0.175142</td><td style=\"text-align: right;\">0.0306747</td><td style=\"text-align: right;\">              3143</td><td style=\"text-align: right;\">                 0.003198</td><td>XGBoost        </td></tr>\n",
              "<tr><td>GBM_grid__1_AutoML_20210514_223352_model_3         </td><td style=\"text-align: right;\">0.846733</td><td style=\"text-align: right;\"> 0.121796</td><td style=\"text-align: right;\">0.215528</td><td style=\"text-align: right;\">              0.333045</td><td style=\"text-align: right;\">0.175333</td><td style=\"text-align: right;\">0.0307416</td><td style=\"text-align: right;\">              3070</td><td style=\"text-align: right;\">                 0.02192 </td><td>GBM            </td></tr>\n",
              "<tr><td>GBM_1_AutoML_20210514_223352                       </td><td style=\"text-align: right;\">0.843329</td><td style=\"text-align: right;\"> 0.124678</td><td style=\"text-align: right;\">0.199057</td><td style=\"text-align: right;\">              0.333359</td><td style=\"text-align: right;\">0.176961</td><td style=\"text-align: right;\">0.0313153</td><td style=\"text-align: right;\">              2216</td><td style=\"text-align: right;\">                 0.013149</td><td>GBM            </td></tr>\n",
              "<tr><td>GBM_5_AutoML_20210514_223352                       </td><td style=\"text-align: right;\">0.839494</td><td style=\"text-align: right;\"> 0.125391</td><td style=\"text-align: right;\">0.197529</td><td style=\"text-align: right;\">              0.349592</td><td style=\"text-align: right;\">0.177011</td><td style=\"text-align: right;\">0.0313329</td><td style=\"text-align: right;\">              3397</td><td style=\"text-align: right;\">                 0.017147</td><td>GBM            </td></tr>\n",
              "<tr><td>XGBoost_2_AutoML_20210514_223352                   </td><td style=\"text-align: right;\">0.839366</td><td style=\"text-align: right;\"> 0.124996</td><td style=\"text-align: right;\">0.195061</td><td style=\"text-align: right;\">              0.324122</td><td style=\"text-align: right;\">0.177739</td><td style=\"text-align: right;\">0.0315911</td><td style=\"text-align: right;\">              4462</td><td style=\"text-align: right;\">                 0.003909</td><td>XGBoost        </td></tr>\n",
              "<tr><td>GBM_grid__1_AutoML_20210514_223352_model_2         </td><td style=\"text-align: right;\">0.839131</td><td style=\"text-align: right;\"> 0.123741</td><td style=\"text-align: right;\">0.207958</td><td style=\"text-align: right;\">              0.324447</td><td style=\"text-align: right;\">0.175961</td><td style=\"text-align: right;\">0.0309624</td><td style=\"text-align: right;\">              2667</td><td style=\"text-align: right;\">                 0.019847</td><td>GBM            </td></tr>\n",
              "<tr><td>GBM_2_AutoML_20210514_223352                       </td><td style=\"text-align: right;\">0.838989</td><td style=\"text-align: right;\"> 0.127064</td><td style=\"text-align: right;\">0.190581</td><td style=\"text-align: right;\">              0.332059</td><td style=\"text-align: right;\">0.178073</td><td style=\"text-align: right;\">0.03171  </td><td style=\"text-align: right;\">              2269</td><td style=\"text-align: right;\">                 0.013438</td><td>GBM            </td></tr>\n",
              "<tr><td>GBM_3_AutoML_20210514_223352                       </td><td style=\"text-align: right;\">0.837954</td><td style=\"text-align: right;\"> 0.127982</td><td style=\"text-align: right;\">0.19516 </td><td style=\"text-align: right;\">              0.309134</td><td style=\"text-align: right;\">0.177758</td><td style=\"text-align: right;\">0.031598 </td><td style=\"text-align: right;\">              2364</td><td style=\"text-align: right;\">                 0.014599</td><td>GBM            </td></tr>\n",
              "<tr><td>XGBoost_grid__1_AutoML_20210514_223352_model_4     </td><td style=\"text-align: right;\">0.83594 </td><td style=\"text-align: right;\"> 0.126414</td><td style=\"text-align: right;\">0.194556</td><td style=\"text-align: right;\">              0.329882</td><td style=\"text-align: right;\">0.177492</td><td style=\"text-align: right;\">0.0315033</td><td style=\"text-align: right;\">              4311</td><td style=\"text-align: right;\">                 0.00473 </td><td>XGBoost        </td></tr>\n",
              "<tr><td>XGBoost_grid__1_AutoML_20210514_223352_model_6     </td><td style=\"text-align: right;\">0.835836</td><td style=\"text-align: right;\"> 0.125136</td><td style=\"text-align: right;\">0.202238</td><td style=\"text-align: right;\">              0.328343</td><td style=\"text-align: right;\">0.176917</td><td style=\"text-align: right;\">0.0312997</td><td style=\"text-align: right;\">              3698</td><td style=\"text-align: right;\">                 0.003829</td><td>XGBoost        </td></tr>\n",
              "<tr><td>XGBoost_grid__1_AutoML_20210514_223352_model_1     </td><td style=\"text-align: right;\">0.834935</td><td style=\"text-align: right;\"> 0.126556</td><td style=\"text-align: right;\">0.193717</td><td style=\"text-align: right;\">              0.334478</td><td style=\"text-align: right;\">0.17769 </td><td style=\"text-align: right;\">0.0315736</td><td style=\"text-align: right;\">              3818</td><td style=\"text-align: right;\">                 0.004097</td><td>XGBoost        </td></tr>\n",
              "<tr><td>DeepLearning_1_AutoML_20210514_223352              </td><td style=\"text-align: right;\">0.834653</td><td style=\"text-align: right;\"> 0.126322</td><td style=\"text-align: right;\">0.185755</td><td style=\"text-align: right;\">              0.350133</td><td style=\"text-align: right;\">0.177218</td><td style=\"text-align: right;\">0.0314062</td><td style=\"text-align: right;\">              2923</td><td style=\"text-align: right;\">                 0.005317</td><td>DeepLearning   </td></tr>\n",
              "<tr><td>XGBoost_grid__1_AutoML_20210514_223352_model_3     </td><td style=\"text-align: right;\">0.832585</td><td style=\"text-align: right;\"> 0.126605</td><td style=\"text-align: right;\">0.191629</td><td style=\"text-align: right;\">              0.345693</td><td style=\"text-align: right;\">0.177883</td><td style=\"text-align: right;\">0.0316422</td><td style=\"text-align: right;\">              4667</td><td style=\"text-align: right;\">                 0.004152</td><td>XGBoost        </td></tr>\n",
              "<tr><td>XGBoost_1_AutoML_20210514_223352                   </td><td style=\"text-align: right;\">0.832131</td><td style=\"text-align: right;\"> 0.126095</td><td style=\"text-align: right;\">0.188304</td><td style=\"text-align: right;\">              0.334091</td><td style=\"text-align: right;\">0.177768</td><td style=\"text-align: right;\">0.0316013</td><td style=\"text-align: right;\">              3993</td><td style=\"text-align: right;\">                 0.003428</td><td>XGBoost        </td></tr>\n",
              "<tr><td>GBM_4_AutoML_20210514_223352                       </td><td style=\"text-align: right;\">0.831987</td><td style=\"text-align: right;\"> 0.132918</td><td style=\"text-align: right;\">0.186992</td><td style=\"text-align: right;\">              0.362654</td><td style=\"text-align: right;\">0.178691</td><td style=\"text-align: right;\">0.0319305</td><td style=\"text-align: right;\">              2761</td><td style=\"text-align: right;\">                 0.015152</td><td>GBM            </td></tr>\n",
              "<tr><td>GBM_grid__1_AutoML_20210514_223352_model_1         </td><td style=\"text-align: right;\">0.831857</td><td style=\"text-align: right;\"> 0.132649</td><td style=\"text-align: right;\">0.188392</td><td style=\"text-align: right;\">              0.343328</td><td style=\"text-align: right;\">0.178648</td><td style=\"text-align: right;\">0.0319153</td><td style=\"text-align: right;\">              2080</td><td style=\"text-align: right;\">                 0.014376</td><td>GBM            </td></tr>\n",
              "<tr><td>DeepLearning_grid__1_AutoML_20210514_223352_model_1</td><td style=\"text-align: right;\">0.83159 </td><td style=\"text-align: right;\"> 0.1339  </td><td style=\"text-align: right;\">0.183553</td><td style=\"text-align: right;\">              0.348187</td><td style=\"text-align: right;\">0.178246</td><td style=\"text-align: right;\">0.0317718</td><td style=\"text-align: right;\">              1081</td><td style=\"text-align: right;\">                 0.01917 </td><td>DeepLearning   </td></tr>\n",
              "<tr><td>XGBoost_grid__1_AutoML_20210514_223352_model_5     </td><td style=\"text-align: right;\">0.829606</td><td style=\"text-align: right;\"> 0.130232</td><td style=\"text-align: right;\">0.19177 </td><td style=\"text-align: right;\">              0.356153</td><td style=\"text-align: right;\">0.178288</td><td style=\"text-align: right;\">0.0317867</td><td style=\"text-align: right;\">              4572</td><td style=\"text-align: right;\">                 0.006589</td><td>XGBoost        </td></tr>\n",
              "<tr><td>DeepLearning_grid__2_AutoML_20210514_223352_model_1</td><td style=\"text-align: right;\">0.827091</td><td style=\"text-align: right;\"> 0.152549</td><td style=\"text-align: right;\">0.160012</td><td style=\"text-align: right;\">              0.333751</td><td style=\"text-align: right;\">0.181603</td><td style=\"text-align: right;\">0.0329798</td><td style=\"text-align: right;\">              2140</td><td style=\"text-align: right;\">                 0.028703</td><td>DeepLearning   </td></tr>\n",
              "<tr><td>XGBoost_grid__1_AutoML_20210514_223352_model_2     </td><td style=\"text-align: right;\">0.818027</td><td style=\"text-align: right;\"> 0.134013</td><td style=\"text-align: right;\">0.180989</td><td style=\"text-align: right;\">              0.348844</td><td style=\"text-align: right;\">0.180282</td><td style=\"text-align: right;\">0.0325015</td><td style=\"text-align: right;\">              4949</td><td style=\"text-align: right;\">                 0.004444</td><td>XGBoost        </td></tr>\n",
              "<tr><td>GBM_grid__1_AutoML_20210514_223352_model_4         </td><td style=\"text-align: right;\">0.817493</td><td style=\"text-align: right;\"> 0.142272</td><td style=\"text-align: right;\">0.171155</td><td style=\"text-align: right;\">              0.354881</td><td style=\"text-align: right;\">0.181908</td><td style=\"text-align: right;\">0.0330906</td><td style=\"text-align: right;\">              3397</td><td style=\"text-align: right;\">                 0.013085</td><td>GBM            </td></tr>\n",
              "<tr><td>DeepLearning_grid__3_AutoML_20210514_223352_model_1</td><td style=\"text-align: right;\">0.814239</td><td style=\"text-align: right;\"> 0.149106</td><td style=\"text-align: right;\">0.141975</td><td style=\"text-align: right;\">              0.360825</td><td style=\"text-align: right;\">0.182922</td><td style=\"text-align: right;\">0.0334603</td><td style=\"text-align: right;\">              2866</td><td style=\"text-align: right;\">                 0.039388</td><td>DeepLearning   </td></tr>\n",
              "<tr><td>DRF_1_AutoML_20210514_223352                       </td><td style=\"text-align: right;\">0.813141</td><td style=\"text-align: right;\"> 0.185069</td><td style=\"text-align: right;\">0.196393</td><td style=\"text-align: right;\">              0.349866</td><td style=\"text-align: right;\">0.176424</td><td style=\"text-align: right;\">0.0311254</td><td style=\"text-align: right;\">              3478</td><td style=\"text-align: right;\">                 0.014623</td><td>DRF            </td></tr>\n",
              "<tr><td>XRT_1_AutoML_20210514_223352                       </td><td style=\"text-align: right;\">0.809495</td><td style=\"text-align: right;\"> 0.132235</td><td style=\"text-align: right;\">0.156454</td><td style=\"text-align: right;\">              0.33005 </td><td style=\"text-align: right;\">0.178659</td><td style=\"text-align: right;\">0.0319192</td><td style=\"text-align: right;\">              4499</td><td style=\"text-align: right;\">                 0.022574</td><td>DRF            </td></tr>\n",
              "</tbody>\n",
              "</table>"
            ]
          },
          "metadata": {
            "tags": []
          }
        },
        {
          "output_type": "execute_result",
          "data": {
            "text/plain": [
              ""
            ]
          },
          "metadata": {
            "tags": []
          },
          "execution_count": 17
        }
      ]
    },
    {
      "cell_type": "code",
      "metadata": {
        "colab": {
          "base_uri": "https://localhost:8080/"
        },
        "id": "jDfBQrPJ-9dz",
        "outputId": "287bfca1-76db-4a8f-d197-5cc62769e95c"
      },
      "source": [
        "# Get model ids for all models in the AutoML Leaderboard\n",
        "model_ids = list(aml.leaderboard['model_id'].as_data_frame().iloc[:,0])\n",
        "\n",
        "# Get the \"All Models\" Stacked Ensemble model\n",
        "se = h2o.get_model([mid for mid in model_ids if \"StackedEnsemble_BestOfFamily\" in mid][0])\n",
        "\n",
        "# Get the Stacked Ensemble metalearner model\n",
        "metalearner = h2o.get_model(se.metalearner()['name'])\n",
        "metalearner.coef()"
      ],
      "execution_count": null,
      "outputs": [
        {
          "output_type": "stream",
          "text": [
            "/usr/local/lib/python3.7/dist-packages/h2o/estimators/stackedensemble.py:836: H2ODeprecationWarning: The usage of stacked_ensemble.metalearner()['name'] will be deprecated. Metalearner now returns the metalearner object. If you need to get the 'name' please use stacked_ensemble.metalearner().model_id\n",
            "  H2ODeprecationWarning\n"
          ],
          "name": "stderr"
        },
        {
          "output_type": "execute_result",
          "data": {
            "text/plain": [
              "{'DRF_1_AutoML_20210514_223352': 0.017295602449910144,\n",
              " 'DeepLearning_1_AutoML_20210514_223352': 0.10516080444812693,\n",
              " 'GBM_grid__1_AutoML_20210514_223352_model_3': 0.23034570067489724,\n",
              " 'GLM_1_AutoML_20210514_223352': 0.29825769567136967,\n",
              " 'Intercept': 0.20830119865700267,\n",
              " 'XGBoost_3_AutoML_20210514_223352': 0.3131761554446857,\n",
              " 'XRT_1_AutoML_20210514_223352': 0.05124765889956372}"
            ]
          },
          "metadata": {
            "tags": []
          },
          "execution_count": 18
        }
      ]
    },
    {
      "cell_type": "code",
      "metadata": {
        "colab": {
          "base_uri": "https://localhost:8080/",
          "height": 612
        },
        "id": "yZUHAPJp-9d0",
        "outputId": "c2e990fa-cdbf-4737-ac8a-8788605e323e"
      },
      "source": [
        "metalearner.std_coef_plot()"
      ],
      "execution_count": null,
      "outputs": [
        {
          "output_type": "display_data",
          "data": {
            "image/png": "[encoded data removed]",
            "text/plain": [
              "<Figure size 1008x720 with 1 Axes>"
            ]
          },
          "metadata": {
            "tags": [],
            "needs_background": "light"
          }
        }
      ]
    },
    {
      "cell_type": "code",
      "metadata": {
        "colab": {
          "base_uri": "https://localhost:8080/",
          "height": 1000
        },
        "id": "StUX6o9N-9d0",
        "outputId": "1d42df48-52bb-4cd3-e8f7-a95d36e370ee"
      },
      "source": [
        "aml.leader.model_performance(test_data = test)"
      ],
      "execution_count": null,
      "outputs": [
        {
          "output_type": "stream",
          "text": [
            "\n",
            "ModelMetricsBinomialGLM: stackedensemble\n",
            "** Reported on test data. **\n",
            "\n",
            "MSE: 0.034234675857970964\n",
            "RMSE: 0.18502614911944465\n",
            "LogLoss: 0.13583444892515675\n",
            "Null degrees of freedom: 9945\n",
            "Residual degrees of freedom: 9931\n",
            "Null deviance: 3327.7962854656025\n",
            "Residual deviance: 2702.018858019218\n",
            "AIC: 2732.018858019218\n",
            "AUC: 0.8284226318670322\n",
            "AUCPR: 0.22229794005982312\n",
            "Gini: 0.6568452637340645\n",
            "\n",
            "Confusion Matrix (Act/Pred) for max f1 @ threshold = 0.2275673226762386: \n"
          ],
          "name": "stdout"
        },
        {
          "output_type": "display_data",
          "data": {
            "text/html": [
              "<div>\n",
              "<style scoped>\n",
              "    .dataframe tbody tr th:only-of-type {\n",
              "        vertical-align: middle;\n",
              "    }\n",
              "\n",
              "    .dataframe tbody tr th {\n",
              "        vertical-align: top;\n",
              "    }\n",
              "\n",
              "    .dataframe thead th {\n",
              "        text-align: right;\n",
              "    }\n",
              "</style>\n",
              "<table border=\"1\" class=\"dataframe\">\n",
              "  <thead>\n",
              "    <tr style=\"text-align: right;\">\n",
              "      <th></th>\n",
              "      <th></th>\n",
              "      <th>FALSE</th>\n",
              "      <th>TRUE</th>\n",
              "      <th>Error</th>\n",
              "      <th>Rate</th>\n",
              "    </tr>\n",
              "  </thead>\n",
              "  <tbody>\n",
              "    <tr>\n",
              "      <th>0</th>\n",
              "      <td>FALSE</td>\n",
              "      <td>9333.0</td>\n",
              "      <td>218.0</td>\n",
              "      <td>0.0228</td>\n",
              "      <td>(218.0/9551.0)</td>\n",
              "    </tr>\n",
              "    <tr>\n",
              "      <th>1</th>\n",
              "      <td>TRUE</td>\n",
              "      <td>288.0</td>\n",
              "      <td>107.0</td>\n",
              "      <td>0.7291</td>\n",
              "      <td>(288.0/395.0)</td>\n",
              "    </tr>\n",
              "    <tr>\n",
              "      <th>2</th>\n",
              "      <td>Total</td>\n",
              "      <td>9621.0</td>\n",
              "      <td>325.0</td>\n",
              "      <td>0.0509</td>\n",
              "      <td>(506.0/9946.0)</td>\n",
              "    </tr>\n",
              "  </tbody>\n",
              "</table>\n",
              "</div>"
            ],
            "text/plain": [
              "           FALSE   TRUE   Error             Rate\n",
              "0  FALSE  9333.0  218.0  0.0228   (218.0/9551.0)\n",
              "1   TRUE   288.0  107.0  0.7291    (288.0/395.0)\n",
              "2  Total  9621.0  325.0  0.0509   (506.0/9946.0)"
            ]
          },
          "metadata": {
            "tags": []
          }
        },
        {
          "output_type": "stream",
          "text": [
            "\n",
            "Maximum Metrics: Maximum metrics at their respective thresholds\n"
          ],
          "name": "stdout"
        },
        {
          "output_type": "display_data",
          "data": {
            "text/html": [
              "<div>\n",
              "<style scoped>\n",
              "    .dataframe tbody tr th:only-of-type {\n",
              "        vertical-align: middle;\n",
              "    }\n",
              "\n",
              "    .dataframe tbody tr th {\n",
              "        vertical-align: top;\n",
              "    }\n",
              "\n",
              "    .dataframe thead th {\n",
              "        text-align: right;\n",
              "    }\n",
              "</style>\n",
              "<table border=\"1\" class=\"dataframe\">\n",
              "  <thead>\n",
              "    <tr style=\"text-align: right;\">\n",
              "      <th></th>\n",
              "      <th>metric</th>\n",
              "      <th>threshold</th>\n",
              "      <th>value</th>\n",
              "      <th>idx</th>\n",
              "    </tr>\n",
              "  </thead>\n",
              "  <tbody>\n",
              "    <tr>\n",
              "      <th>0</th>\n",
              "      <td>max f1</td>\n",
              "      <td>0.227567</td>\n",
              "      <td>0.297222</td>\n",
              "      <td>127.0</td>\n",
              "    </tr>\n",
              "    <tr>\n",
              "      <th>1</th>\n",
              "      <td>max f2</td>\n",
              "      <td>0.057316</td>\n",
              "      <td>0.380030</td>\n",
              "      <td>266.0</td>\n",
              "    </tr>\n",
              "    <tr>\n",
              "      <th>2</th>\n",
              "      <td>max f0point5</td>\n",
              "      <td>0.274920</td>\n",
              "      <td>0.326340</td>\n",
              "      <td>103.0</td>\n",
              "    </tr>\n",
              "    <tr>\n",
              "      <th>3</th>\n",
              "      <td>max accuracy</td>\n",
              "      <td>0.518064</td>\n",
              "      <td>0.960989</td>\n",
              "      <td>26.0</td>\n",
              "    </tr>\n",
              "    <tr>\n",
              "      <th>4</th>\n",
              "      <td>max precision</td>\n",
              "      <td>0.518064</td>\n",
              "      <td>0.589744</td>\n",
              "      <td>26.0</td>\n",
              "    </tr>\n",
              "    <tr>\n",
              "      <th>5</th>\n",
              "      <td>max recall</td>\n",
              "      <td>0.001286</td>\n",
              "      <td>1.000000</td>\n",
              "      <td>396.0</td>\n",
              "    </tr>\n",
              "    <tr>\n",
              "      <th>6</th>\n",
              "      <td>max specificity</td>\n",
              "      <td>0.829398</td>\n",
              "      <td>0.999895</td>\n",
              "      <td>0.0</td>\n",
              "    </tr>\n",
              "    <tr>\n",
              "      <th>7</th>\n",
              "      <td>max absolute_mcc</td>\n",
              "      <td>0.227567</td>\n",
              "      <td>0.272477</td>\n",
              "      <td>127.0</td>\n",
              "    </tr>\n",
              "    <tr>\n",
              "      <th>8</th>\n",
              "      <td>max min_per_class_accuracy</td>\n",
              "      <td>0.036127</td>\n",
              "      <td>0.762025</td>\n",
              "      <td>300.0</td>\n",
              "    </tr>\n",
              "    <tr>\n",
              "      <th>9</th>\n",
              "      <td>max mean_per_class_accuracy</td>\n",
              "      <td>0.032675</td>\n",
              "      <td>0.762628</td>\n",
              "      <td>307.0</td>\n",
              "    </tr>\n",
              "    <tr>\n",
              "      <th>10</th>\n",
              "      <td>max tns</td>\n",
              "      <td>0.829398</td>\n",
              "      <td>9550.000000</td>\n",
              "      <td>0.0</td>\n",
              "    </tr>\n",
              "    <tr>\n",
              "      <th>11</th>\n",
              "      <td>max fns</td>\n",
              "      <td>0.829398</td>\n",
              "      <td>395.000000</td>\n",
              "      <td>0.0</td>\n",
              "    </tr>\n",
              "    <tr>\n",
              "      <th>12</th>\n",
              "      <td>max fps</td>\n",
              "      <td>0.000540</td>\n",
              "      <td>9551.000000</td>\n",
              "      <td>399.0</td>\n",
              "    </tr>\n",
              "    <tr>\n",
              "      <th>13</th>\n",
              "      <td>max tps</td>\n",
              "      <td>0.001286</td>\n",
              "      <td>395.000000</td>\n",
              "      <td>396.0</td>\n",
              "    </tr>\n",
              "    <tr>\n",
              "      <th>14</th>\n",
              "      <td>max tnr</td>\n",
              "      <td>0.829398</td>\n",
              "      <td>0.999895</td>\n",
              "      <td>0.0</td>\n",
              "    </tr>\n",
              "    <tr>\n",
              "      <th>15</th>\n",
              "      <td>max fnr</td>\n",
              "      <td>0.829398</td>\n",
              "      <td>1.000000</td>\n",
              "      <td>0.0</td>\n",
              "    </tr>\n",
              "    <tr>\n",
              "      <th>16</th>\n",
              "      <td>max fpr</td>\n",
              "      <td>0.000540</td>\n",
              "      <td>1.000000</td>\n",
              "      <td>399.0</td>\n",
              "    </tr>\n",
              "    <tr>\n",
              "      <th>17</th>\n",
              "      <td>max tpr</td>\n",
              "      <td>0.001286</td>\n",
              "      <td>1.000000</td>\n",
              "      <td>396.0</td>\n",
              "    </tr>\n",
              "  </tbody>\n",
              "</table>\n",
              "</div>"
            ],
            "text/plain": [
              "                         metric  threshold        value    idx\n",
              "0                        max f1   0.227567     0.297222  127.0\n",
              "1                        max f2   0.057316     0.380030  266.0\n",
              "2                  max f0point5   0.274920     0.326340  103.0\n",
              "3                  max accuracy   0.518064     0.960989   26.0\n",
              "4                 max precision   0.518064     0.589744   26.0\n",
              "5                    max recall   0.001286     1.000000  396.0\n",
              "6               max specificity   0.829398     0.999895    0.0\n",
              "7              max absolute_mcc   0.227567     0.272477  127.0\n",
              "8    max min_per_class_accuracy   0.036127     0.762025  300.0\n",
              "9   max mean_per_class_accuracy   0.032675     0.762628  307.0\n",
              "10                      max tns   0.829398  9550.000000    0.0\n",
              "11                      max fns   0.829398   395.000000    0.0\n",
              "12                      max fps   0.000540  9551.000000  399.0\n",
              "13                      max tps   0.001286   395.000000  396.0\n",
              "14                      max tnr   0.829398     0.999895    0.0\n",
              "15                      max fnr   0.829398     1.000000    0.0\n",
              "16                      max fpr   0.000540     1.000000  399.0\n",
              "17                      max tpr   0.001286     1.000000  396.0"
            ]
          },
          "metadata": {
            "tags": []
          }
        },
        {
          "output_type": "stream",
          "text": [
            "\n",
            "Gains/Lift Table: Avg response rate:  3.97 %, avg score:  3.88 %\n"
          ],
          "name": "stdout"
        },
        {
          "output_type": "display_data",
          "data": {
            "text/html": [
              "<div>\n",
              "<style scoped>\n",
              "    .dataframe tbody tr th:only-of-type {\n",
              "        vertical-align: middle;\n",
              "    }\n",
              "\n",
              "    .dataframe tbody tr th {\n",
              "        vertical-align: top;\n",
              "    }\n",
              "\n",
              "    .dataframe thead th {\n",
              "        text-align: right;\n",
              "    }\n",
              "</style>\n",
              "<table border=\"1\" class=\"dataframe\">\n",
              "  <thead>\n",
              "    <tr style=\"text-align: right;\">\n",
              "      <th></th>\n",
              "      <th>group</th>\n",
              "      <th>cumulative_data_fraction</th>\n",
              "      <th>lower_threshold</th>\n",
              "      <th>lift</th>\n",
              "      <th>cumulative_lift</th>\n",
              "      <th>response_rate</th>\n",
              "      <th>score</th>\n",
              "      <th>cumulative_response_rate</th>\n",
              "      <th>cumulative_score</th>\n",
              "      <th>capture_rate</th>\n",
              "      <th>cumulative_capture_rate</th>\n",
              "      <th>gain</th>\n",
              "      <th>cumulative_gain</th>\n",
              "      <th>kolmogorov_smirnov</th>\n",
              "    </tr>\n",
              "  </thead>\n",
              "  <tbody>\n",
              "    <tr>\n",
              "      <th>0</th>\n",
              "      <td>1</td>\n",
              "      <td>0.010054</td>\n",
              "      <td>0.399765</td>\n",
              "      <td>10.827291</td>\n",
              "      <td>10.827291</td>\n",
              "      <td>0.430000</td>\n",
              "      <td>0.509143</td>\n",
              "      <td>0.430000</td>\n",
              "      <td>0.509143</td>\n",
              "      <td>0.108861</td>\n",
              "      <td>0.108861</td>\n",
              "      <td>982.729114</td>\n",
              "      <td>982.729114</td>\n",
              "      <td>0.102893</td>\n",
              "    </tr>\n",
              "    <tr>\n",
              "      <th>1</th>\n",
              "      <td>2</td>\n",
              "      <td>0.020008</td>\n",
              "      <td>0.284754</td>\n",
              "      <td>7.375885</td>\n",
              "      <td>9.110260</td>\n",
              "      <td>0.292929</td>\n",
              "      <td>0.340273</td>\n",
              "      <td>0.361809</td>\n",
              "      <td>0.425133</td>\n",
              "      <td>0.073418</td>\n",
              "      <td>0.182278</td>\n",
              "      <td>637.588544</td>\n",
              "      <td>811.026016</td>\n",
              "      <td>0.168981</td>\n",
              "    </tr>\n",
              "    <tr>\n",
              "      <th>2</th>\n",
              "      <td>3</td>\n",
              "      <td>0.030062</td>\n",
              "      <td>0.238077</td>\n",
              "      <td>7.050329</td>\n",
              "      <td>8.421320</td>\n",
              "      <td>0.280000</td>\n",
              "      <td>0.261454</td>\n",
              "      <td>0.334448</td>\n",
              "      <td>0.370391</td>\n",
              "      <td>0.070886</td>\n",
              "      <td>0.253165</td>\n",
              "      <td>605.032911</td>\n",
              "      <td>742.132001</td>\n",
              "      <td>0.232329</td>\n",
              "    </tr>\n",
              "    <tr>\n",
              "      <th>3</th>\n",
              "      <td>4</td>\n",
              "      <td>0.040016</td>\n",
              "      <td>0.198140</td>\n",
              "      <td>3.306431</td>\n",
              "      <td>7.149024</td>\n",
              "      <td>0.131313</td>\n",
              "      <td>0.216999</td>\n",
              "      <td>0.283920</td>\n",
              "      <td>0.332235</td>\n",
              "      <td>0.032911</td>\n",
              "      <td>0.286076</td>\n",
              "      <td>230.643140</td>\n",
              "      <td>614.902360</td>\n",
              "      <td>0.256236</td>\n",
              "    </tr>\n",
              "    <tr>\n",
              "      <th>4</th>\n",
              "      <td>5</td>\n",
              "      <td>0.050070</td>\n",
              "      <td>0.171960</td>\n",
              "      <td>4.532354</td>\n",
              "      <td>6.623588</td>\n",
              "      <td>0.180000</td>\n",
              "      <td>0.184098</td>\n",
              "      <td>0.263052</td>\n",
              "      <td>0.302489</td>\n",
              "      <td>0.045570</td>\n",
              "      <td>0.331646</td>\n",
              "      <td>353.235443</td>\n",
              "      <td>562.358802</td>\n",
              "      <td>0.293220</td>\n",
              "    </tr>\n",
              "    <tr>\n",
              "      <th>5</th>\n",
              "      <td>6</td>\n",
              "      <td>0.100040</td>\n",
              "      <td>0.095960</td>\n",
              "      <td>2.634501</td>\n",
              "      <td>4.631049</td>\n",
              "      <td>0.104628</td>\n",
              "      <td>0.128161</td>\n",
              "      <td>0.183920</td>\n",
              "      <td>0.215413</td>\n",
              "      <td>0.131646</td>\n",
              "      <td>0.463291</td>\n",
              "      <td>163.450067</td>\n",
              "      <td>363.104892</td>\n",
              "      <td>0.378274</td>\n",
              "    </tr>\n",
              "    <tr>\n",
              "      <th>6</th>\n",
              "      <td>7</td>\n",
              "      <td>0.150010</td>\n",
              "      <td>0.067914</td>\n",
              "      <td>2.381183</td>\n",
              "      <td>3.881596</td>\n",
              "      <td>0.094567</td>\n",
              "      <td>0.081135</td>\n",
              "      <td>0.154155</td>\n",
              "      <td>0.170683</td>\n",
              "      <td>0.118987</td>\n",
              "      <td>0.582278</td>\n",
              "      <td>138.118330</td>\n",
              "      <td>288.159636</td>\n",
              "      <td>0.450146</td>\n",
              "    </tr>\n",
              "    <tr>\n",
              "      <th>7</th>\n",
              "      <td>8</td>\n",
              "      <td>0.200080</td>\n",
              "      <td>0.050278</td>\n",
              "      <td>1.668537</td>\n",
              "      <td>3.327776</td>\n",
              "      <td>0.066265</td>\n",
              "      <td>0.058436</td>\n",
              "      <td>0.132161</td>\n",
              "      <td>0.142593</td>\n",
              "      <td>0.083544</td>\n",
              "      <td>0.665823</td>\n",
              "      <td>66.853744</td>\n",
              "      <td>232.777559</td>\n",
              "      <td>0.485004</td>\n",
              "    </tr>\n",
              "    <tr>\n",
              "      <th>8</th>\n",
              "      <td>9</td>\n",
              "      <td>0.300020</td>\n",
              "      <td>0.029378</td>\n",
              "      <td>1.317250</td>\n",
              "      <td>2.658050</td>\n",
              "      <td>0.052314</td>\n",
              "      <td>0.038365</td>\n",
              "      <td>0.105563</td>\n",
              "      <td>0.107874</td>\n",
              "      <td>0.131646</td>\n",
              "      <td>0.797468</td>\n",
              "      <td>31.725034</td>\n",
              "      <td>165.804968</td>\n",
              "      <td>0.518021</td>\n",
              "    </tr>\n",
              "    <tr>\n",
              "      <th>9</th>\n",
              "      <td>10</td>\n",
              "      <td>0.400060</td>\n",
              "      <td>0.018678</td>\n",
              "      <td>0.480819</td>\n",
              "      <td>2.113605</td>\n",
              "      <td>0.019095</td>\n",
              "      <td>0.023502</td>\n",
              "      <td>0.083941</td>\n",
              "      <td>0.086776</td>\n",
              "      <td>0.048101</td>\n",
              "      <td>0.845570</td>\n",
              "      <td>-51.918071</td>\n",
              "      <td>111.360529</td>\n",
              "      <td>0.463934</td>\n",
              "    </tr>\n",
              "    <tr>\n",
              "      <th>10</th>\n",
              "      <td>11</td>\n",
              "      <td>0.500000</td>\n",
              "      <td>0.012450</td>\n",
              "      <td>0.557298</td>\n",
              "      <td>1.802532</td>\n",
              "      <td>0.022133</td>\n",
              "      <td>0.015337</td>\n",
              "      <td>0.071587</td>\n",
              "      <td>0.072496</td>\n",
              "      <td>0.055696</td>\n",
              "      <td>0.901266</td>\n",
              "      <td>-44.270178</td>\n",
              "      <td>80.253165</td>\n",
              "      <td>0.417861</td>\n",
              "    </tr>\n",
              "    <tr>\n",
              "      <th>11</th>\n",
              "      <td>12</td>\n",
              "      <td>0.600040</td>\n",
              "      <td>0.008288</td>\n",
              "      <td>0.354288</td>\n",
              "      <td>1.561077</td>\n",
              "      <td>0.014070</td>\n",
              "      <td>0.010230</td>\n",
              "      <td>0.061997</td>\n",
              "      <td>0.062115</td>\n",
              "      <td>0.035443</td>\n",
              "      <td>0.936709</td>\n",
              "      <td>-64.571210</td>\n",
              "      <td>56.107680</td>\n",
              "      <td>0.350592</td>\n",
              "    </tr>\n",
              "    <tr>\n",
              "      <th>12</th>\n",
              "      <td>13</td>\n",
              "      <td>0.699980</td>\n",
              "      <td>0.005512</td>\n",
              "      <td>0.227986</td>\n",
              "      <td>1.370745</td>\n",
              "      <td>0.009054</td>\n",
              "      <td>0.006804</td>\n",
              "      <td>0.054438</td>\n",
              "      <td>0.054218</td>\n",
              "      <td>0.022785</td>\n",
              "      <td>0.959494</td>\n",
              "      <td>-77.201436</td>\n",
              "      <td>37.074462</td>\n",
              "      <td>0.270246</td>\n",
              "    </tr>\n",
              "    <tr>\n",
              "      <th>13</th>\n",
              "      <td>14</td>\n",
              "      <td>0.800020</td>\n",
              "      <td>0.003582</td>\n",
              "      <td>0.202450</td>\n",
              "      <td>1.224653</td>\n",
              "      <td>0.008040</td>\n",
              "      <td>0.004499</td>\n",
              "      <td>0.048636</td>\n",
              "      <td>0.048001</td>\n",
              "      <td>0.020253</td>\n",
              "      <td>0.979747</td>\n",
              "      <td>-79.754977</td>\n",
              "      <td>22.465276</td>\n",
              "      <td>0.187160</td>\n",
              "    </tr>\n",
              "    <tr>\n",
              "      <th>14</th>\n",
              "      <td>15</td>\n",
              "      <td>0.899960</td>\n",
              "      <td>0.002137</td>\n",
              "      <td>0.177322</td>\n",
              "      <td>1.108348</td>\n",
              "      <td>0.007042</td>\n",
              "      <td>0.002818</td>\n",
              "      <td>0.044017</td>\n",
              "      <td>0.042983</td>\n",
              "      <td>0.017722</td>\n",
              "      <td>0.997468</td>\n",
              "      <td>-82.267784</td>\n",
              "      <td>10.834770</td>\n",
              "      <td>0.101541</td>\n",
              "    </tr>\n",
              "    <tr>\n",
              "      <th>15</th>\n",
              "      <td>16</td>\n",
              "      <td>1.000000</td>\n",
              "      <td>0.000350</td>\n",
              "      <td>0.025306</td>\n",
              "      <td>1.000000</td>\n",
              "      <td>0.001005</td>\n",
              "      <td>0.001431</td>\n",
              "      <td>0.039714</td>\n",
              "      <td>0.038827</td>\n",
              "      <td>0.002532</td>\n",
              "      <td>1.000000</td>\n",
              "      <td>-97.469372</td>\n",
              "      <td>0.000000</td>\n",
              "      <td>0.000000</td>\n",
              "    </tr>\n",
              "  </tbody>\n",
              "</table>\n",
              "</div>"
            ],
            "text/plain": [
              "    group  cumulative_data_fraction  ...  cumulative_gain  kolmogorov_smirnov\n",
              "0       1                  0.010054  ...       982.729114            0.102893\n",
              "1       2                  0.020008  ...       811.026016            0.168981\n",
              "2       3                  0.030062  ...       742.132001            0.232329\n",
              "3       4                  0.040016  ...       614.902360            0.256236\n",
              "4       5                  0.050070  ...       562.358802            0.293220\n",
              "5       6                  0.100040  ...       363.104892            0.378274\n",
              "6       7                  0.150010  ...       288.159636            0.450146\n",
              "7       8                  0.200080  ...       232.777559            0.485004\n",
              "8       9                  0.300020  ...       165.804968            0.518021\n",
              "9      10                  0.400060  ...       111.360529            0.463934\n",
              "10     11                  0.500000  ...        80.253165            0.417861\n",
              "11     12                  0.600040  ...        56.107680            0.350592\n",
              "12     13                  0.699980  ...        37.074462            0.270246\n",
              "13     14                  0.800020  ...        22.465276            0.187160\n",
              "14     15                  0.899960  ...        10.834770            0.101541\n",
              "15     16                  1.000000  ...         0.000000            0.000000\n",
              "\n",
              "[16 rows x 14 columns]"
            ]
          },
          "metadata": {
            "tags": []
          }
        },
        {
          "output_type": "stream",
          "text": [
            "\n"
          ],
          "name": "stdout"
        },
        {
          "output_type": "execute_result",
          "data": {
            "text/plain": [
              ""
            ]
          },
          "metadata": {
            "tags": []
          },
          "execution_count": 20
        }
      ]
    },
    {
      "cell_type": "code",
      "metadata": {
        "colab": {
          "base_uri": "https://localhost:8080/",
          "height": 297
        },
        "id": "HuEaUX_z-9d0",
        "outputId": "56aed6fe-1d0a-461f-d079-b0d3f8068c54"
      },
      "source": [
        "%matplotlib inline\n",
        "aml.leader.model_performance(test_data = test).plot()"
      ],
      "execution_count": null,
      "outputs": [
        {
          "output_type": "display_data",
          "data": {
            "image/png": "[encoded data removed]",
            "text/plain": [
              "<Figure size 432x288 with 1 Axes>"
            ]
          },
          "metadata": {
            "tags": [],
            "needs_background": "light"
          }
        }
      ]
    },
    {
      "cell_type": "code",
      "metadata": {
        "colab": {
          "base_uri": "https://localhost:8080/",
          "height": 255
        },
        "id": "k9-fbSgE-9d0",
        "outputId": "7442aec2-26ec-4b40-db9b-46d93f052b08"
      },
      "source": [
        "aml.predict(test)"
      ],
      "execution_count": null,
      "outputs": [
        {
          "output_type": "stream",
          "text": [
            "stackedensemble prediction progress: |████████████████████████████████████| 100%\n"
          ],
          "name": "stdout"
        },
        {
          "output_type": "display_data",
          "data": {
            "text/html": [
              "<table>\n",
              "<thead>\n",
              "<tr><th>predict  </th><th style=\"text-align: right;\">   FALSE</th><th style=\"text-align: right;\">      TRUE</th></tr>\n",
              "</thead>\n",
              "<tbody>\n",
              "<tr><td>FALSE    </td><td style=\"text-align: right;\">0.961051</td><td style=\"text-align: right;\">0.0389486 </td></tr>\n",
              "<tr><td>FALSE    </td><td style=\"text-align: right;\">0.987702</td><td style=\"text-align: right;\">0.0122981 </td></tr>\n",
              "<tr><td>FALSE    </td><td style=\"text-align: right;\">0.99508 </td><td style=\"text-align: right;\">0.00491979</td></tr>\n",
              "<tr><td>FALSE    </td><td style=\"text-align: right;\">0.951687</td><td style=\"text-align: right;\">0.0483127 </td></tr>\n",
              "<tr><td>FALSE    </td><td style=\"text-align: right;\">0.982956</td><td style=\"text-align: right;\">0.0170445 </td></tr>\n",
              "<tr><td>FALSE    </td><td style=\"text-align: right;\">0.994997</td><td style=\"text-align: right;\">0.00500269</td></tr>\n",
              "<tr><td>FALSE    </td><td style=\"text-align: right;\">0.996847</td><td style=\"text-align: right;\">0.00315308</td></tr>\n",
              "<tr><td>FALSE    </td><td style=\"text-align: right;\">0.998561</td><td style=\"text-align: right;\">0.00143927</td></tr>\n",
              "<tr><td>FALSE    </td><td style=\"text-align: right;\">0.995623</td><td style=\"text-align: right;\">0.00437711</td></tr>\n",
              "<tr><td>FALSE    </td><td style=\"text-align: right;\">0.993204</td><td style=\"text-align: right;\">0.00679605</td></tr>\n",
              "</tbody>\n",
              "</table>"
            ]
          },
          "metadata": {
            "tags": []
          }
        },
        {
          "output_type": "execute_result",
          "data": {
            "text/plain": [
              ""
            ]
          },
          "metadata": {
            "tags": []
          },
          "execution_count": 22
        }
      ]
    },
    {
      "cell_type": "markdown",
      "metadata": {
        "id": "8fiv5tGm-9d0"
      },
      "source": [
        "## Task 5: H2O AutoML Regression"
      ]
    },
    {
      "cell_type": "code",
      "metadata": {
        "id": "l3lKz9yZ-9d0"
      },
      "source": [
        "y_reg = \"ORIGINAL_INTEREST_RATE\"\n",
        "\n",
        "ignore_reg = [\"ORIGINAL_INTEREST_RATE\", \n",
        "              \"FIRST_PAYMENT_DATE\", \n",
        "              \"MATURITY_DATE\", \n",
        "              \"MORTGAGE_INSURANCE_PERCENTAGE\", \n",
        "              \"PREPAYMENT_PENALTY_MORTGAGE_FLAG\", \n",
        "              \"LOAN_SEQUENCE_NUMBER\", \n",
        "              \"PREPAID\", \n",
        "              \"DELINQUENT\", \n",
        "              \"PRODUCT_TYPE\"] \n",
        "\n",
        "x_reg = list(set(train.names) - set(ignore_reg))"
      ],
      "execution_count": null,
      "outputs": []
    },
    {
      "cell_type": "code",
      "metadata": {
        "colab": {
          "base_uri": "https://localhost:8080/"
        },
        "id": "dBx7J8wV-9d1",
        "outputId": "09aa354e-c629-493d-e6cc-ae95974f5015"
      },
      "source": [
        "print(\"y:\", y_reg, \"\\nx:\", x_reg)"
      ],
      "execution_count": null,
      "outputs": [
        {
          "output_type": "stream",
          "text": [
            "y: ORIGINAL_INTEREST_RATE \n",
            "x: ['NUMBER_OF_BORROWERS', 'ORIGINAL_LOAN_TO_VALUE', 'PROPERTY_TYPE', 'ORIGINAL_UPB', 'CHANNEL', 'LOAN_PURPOSE', 'FIRST_TIME_HOMEBUYER_FLAG', 'OCCUPANCY_STATUS', 'ORIGINAL_DEBT_TO_INCOME_RATIO', 'SERVICER_NAME', 'SELLER_NAME', 'ORIGINAL_LOAN_TERM', 'PROPERTY_STATE', 'POSTAL_CODE', 'ORIGINAL_COMBINED_LOAN_TO_VALUE', 'METROPOLITAN_STATISTICAL_AREA', 'NUMBER_OF_UNITS', 'CREDIT_SCORE']\n"
          ],
          "name": "stdout"
        }
      ]
    },
    {
      "cell_type": "code",
      "metadata": {
        "colab": {
          "base_uri": "https://localhost:8080/"
        },
        "id": "MqM0QLfP-9d1",
        "scrolled": false,
        "outputId": "e4626048-5a8c-4714-cf5f-387cfcf8566f"
      },
      "source": [
        "aml = H2OAutoML(max_runtime_secs = 900, max_runtime_secs_per_model = 30, seed = 42, \n",
        "                project_name = 'regression',  stopping_metric = \"RMSE\", \n",
        "                sort_metric = \"RMSE\")\n",
        "\n",
        "%time aml.train(x = x_reg, y = y_reg, training_frame = train)"
      ],
      "execution_count": null,
      "outputs": [
        {
          "output_type": "stream",
          "text": [
            "AutoML progress: |████████████████████████████████████████████████████████| 100%\n",
            "CPU times: user 1min, sys: 2.29 s, total: 1min 3s\n",
            "Wall time: 14min 13s\n"
          ],
          "name": "stdout"
        }
      ]
    },
    {
      "cell_type": "code",
      "metadata": {
        "colab": {
          "base_uri": "https://localhost:8080/",
          "height": 838
        },
        "id": "vzY592QL-9d1",
        "outputId": "5c5a9a2c-4819-4613-f17e-0d98d60b6d94"
      },
      "source": [
        "lb = aml.leaderboard\n",
        "lb.head(rows = lb.nrows)"
      ],
      "execution_count": null,
      "outputs": [
        {
          "output_type": "display_data",
          "data": {
            "text/html": [
              "<table>\n",
              "<thead>\n",
              "<tr><th>model_id                                           </th><th style=\"text-align: right;\">    rmse</th><th style=\"text-align: right;\">  mean_residual_deviance</th><th style=\"text-align: right;\">     mse</th><th style=\"text-align: right;\">     mae</th><th style=\"text-align: right;\">    rmsle</th></tr>\n",
              "</thead>\n",
              "<tbody>\n",
              "<tr><td>GBM_2_AutoML_20210514_224956                       </td><td style=\"text-align: right;\">0.431104</td><td style=\"text-align: right;\">                0.185851</td><td style=\"text-align: right;\">0.185851</td><td style=\"text-align: right;\">0.313055</td><td style=\"text-align: right;\">0.0509991</td></tr>\n",
              "<tr><td>GBM_3_AutoML_20210514_224956                       </td><td style=\"text-align: right;\">0.431195</td><td style=\"text-align: right;\">                0.185929</td><td style=\"text-align: right;\">0.185929</td><td style=\"text-align: right;\">0.313097</td><td style=\"text-align: right;\">0.0509962</td></tr>\n",
              "<tr><td>GBM_4_AutoML_20210514_224956                       </td><td style=\"text-align: right;\">0.432373</td><td style=\"text-align: right;\">                0.186946</td><td style=\"text-align: right;\">0.186946</td><td style=\"text-align: right;\">0.31395 </td><td style=\"text-align: right;\">0.0511356</td></tr>\n",
              "<tr><td>GBM_1_AutoML_20210514_224956                       </td><td style=\"text-align: right;\">0.432658</td><td style=\"text-align: right;\">                0.187193</td><td style=\"text-align: right;\">0.187193</td><td style=\"text-align: right;\">0.314815</td><td style=\"text-align: right;\">0.051172 </td></tr>\n",
              "<tr><td>GBM_5_AutoML_20210514_224956                       </td><td style=\"text-align: right;\">0.434751</td><td style=\"text-align: right;\">                0.189008</td><td style=\"text-align: right;\">0.189008</td><td style=\"text-align: right;\">0.316282</td><td style=\"text-align: right;\">0.051412 </td></tr>\n",
              "<tr><td>GBM_grid__1_AutoML_20210514_224956_model_3         </td><td style=\"text-align: right;\">0.435896</td><td style=\"text-align: right;\">                0.190005</td><td style=\"text-align: right;\">0.190005</td><td style=\"text-align: right;\">0.315393</td><td style=\"text-align: right;\">0.0515435</td></tr>\n",
              "<tr><td>GBM_grid__1_AutoML_20210514_224956_model_2         </td><td style=\"text-align: right;\">0.436266</td><td style=\"text-align: right;\">                0.190328</td><td style=\"text-align: right;\">0.190328</td><td style=\"text-align: right;\">0.319204</td><td style=\"text-align: right;\">0.0515709</td></tr>\n",
              "<tr><td>XGBoost_grid__1_AutoML_20210514_224956_model_2     </td><td style=\"text-align: right;\">0.437663</td><td style=\"text-align: right;\">                0.191549</td><td style=\"text-align: right;\">0.191549</td><td style=\"text-align: right;\">0.319431</td><td style=\"text-align: right;\">0.0517603</td></tr>\n",
              "<tr><td>XGBoost_3_AutoML_20210514_224956                   </td><td style=\"text-align: right;\">0.438092</td><td style=\"text-align: right;\">                0.191924</td><td style=\"text-align: right;\">0.191924</td><td style=\"text-align: right;\">0.319717</td><td style=\"text-align: right;\">0.0518123</td></tr>\n",
              "<tr><td>XGBoost_grid__1_AutoML_20210514_224956_model_3     </td><td style=\"text-align: right;\">0.438488</td><td style=\"text-align: right;\">                0.192271</td><td style=\"text-align: right;\">0.192271</td><td style=\"text-align: right;\">0.319786</td><td style=\"text-align: right;\">0.0518678</td></tr>\n",
              "<tr><td>StackedEnsemble_AllModels_AutoML_20210514_224956   </td><td style=\"text-align: right;\">0.439109</td><td style=\"text-align: right;\">                0.192817</td><td style=\"text-align: right;\">0.192817</td><td style=\"text-align: right;\">0.322064</td><td style=\"text-align: right;\">0.0518371</td></tr>\n",
              "<tr><td>GBM_grid__1_AutoML_20210514_224956_model_5         </td><td style=\"text-align: right;\">0.441458</td><td style=\"text-align: right;\">                0.194885</td><td style=\"text-align: right;\">0.194885</td><td style=\"text-align: right;\">0.321879</td><td style=\"text-align: right;\">0.0522335</td></tr>\n",
              "<tr><td>StackedEnsemble_BestOfFamily_AutoML_20210514_224956</td><td style=\"text-align: right;\">0.44149 </td><td style=\"text-align: right;\">                0.194913</td><td style=\"text-align: right;\">0.194913</td><td style=\"text-align: right;\">0.32435 </td><td style=\"text-align: right;\">0.0521043</td></tr>\n",
              "<tr><td>XGBoost_grid__1_AutoML_20210514_224956_model_4     </td><td style=\"text-align: right;\">0.443595</td><td style=\"text-align: right;\">                0.196777</td><td style=\"text-align: right;\">0.196777</td><td style=\"text-align: right;\">0.325747</td><td style=\"text-align: right;\">0.0524541</td></tr>\n",
              "<tr><td>XGBoost_grid__1_AutoML_20210514_224956_model_1     </td><td style=\"text-align: right;\">0.443666</td><td style=\"text-align: right;\">                0.196839</td><td style=\"text-align: right;\">0.196839</td><td style=\"text-align: right;\">0.326222</td><td style=\"text-align: right;\">0.0524693</td></tr>\n",
              "<tr><td>XGBoost_1_AutoML_20210514_224956                   </td><td style=\"text-align: right;\">0.444281</td><td style=\"text-align: right;\">                0.197385</td><td style=\"text-align: right;\">0.197385</td><td style=\"text-align: right;\">0.324424</td><td style=\"text-align: right;\">0.0525874</td></tr>\n",
              "<tr><td>GBM_grid__1_AutoML_20210514_224956_model_4         </td><td style=\"text-align: right;\">0.444942</td><td style=\"text-align: right;\">                0.197973</td><td style=\"text-align: right;\">0.197973</td><td style=\"text-align: right;\">0.327438</td><td style=\"text-align: right;\">0.0525558</td></tr>\n",
              "<tr><td>XGBoost_grid__1_AutoML_20210514_224956_model_8     </td><td style=\"text-align: right;\">0.445974</td><td style=\"text-align: right;\">                0.198893</td><td style=\"text-align: right;\">0.198893</td><td style=\"text-align: right;\">0.325022</td><td style=\"text-align: right;\">0.052791 </td></tr>\n",
              "<tr><td>XGBoost_grid__1_AutoML_20210514_224956_model_6     </td><td style=\"text-align: right;\">0.446173</td><td style=\"text-align: right;\">                0.199071</td><td style=\"text-align: right;\">0.199071</td><td style=\"text-align: right;\">0.326343</td><td style=\"text-align: right;\">0.052828 </td></tr>\n",
              "<tr><td>XGBoost_grid__1_AutoML_20210514_224956_model_9     </td><td style=\"text-align: right;\">0.447256</td><td style=\"text-align: right;\">                0.200038</td><td style=\"text-align: right;\">0.200038</td><td style=\"text-align: right;\">0.325472</td><td style=\"text-align: right;\">0.052951 </td></tr>\n",
              "<tr><td>GBM_grid__1_AutoML_20210514_224956_model_6         </td><td style=\"text-align: right;\">0.448818</td><td style=\"text-align: right;\">                0.201438</td><td style=\"text-align: right;\">0.201438</td><td style=\"text-align: right;\">0.330768</td><td style=\"text-align: right;\">0.0529562</td></tr>\n",
              "<tr><td>XGBoost_grid__1_AutoML_20210514_224956_model_5     </td><td style=\"text-align: right;\">0.45017 </td><td style=\"text-align: right;\">                0.202653</td><td style=\"text-align: right;\">0.202653</td><td style=\"text-align: right;\">0.327997</td><td style=\"text-align: right;\">0.0532897</td></tr>\n",
              "<tr><td>XGBoost_grid__1_AutoML_20210514_224956_model_7     </td><td style=\"text-align: right;\">0.452264</td><td style=\"text-align: right;\">                0.204543</td><td style=\"text-align: right;\">0.204543</td><td style=\"text-align: right;\">0.330714</td><td style=\"text-align: right;\">0.0535704</td></tr>\n",
              "<tr><td>XGBoost_grid__1_AutoML_20210514_224956_model_10    </td><td style=\"text-align: right;\">0.452371</td><td style=\"text-align: right;\">                0.20464 </td><td style=\"text-align: right;\">0.20464 </td><td style=\"text-align: right;\">0.325053</td><td style=\"text-align: right;\">0.0532982</td></tr>\n",
              "<tr><td>XGBoost_2_AutoML_20210514_224956                   </td><td style=\"text-align: right;\">0.45722 </td><td style=\"text-align: right;\">                0.20905 </td><td style=\"text-align: right;\">0.20905 </td><td style=\"text-align: right;\">0.334618</td><td style=\"text-align: right;\">0.0541863</td></tr>\n",
              "<tr><td>GLM_1_AutoML_20210514_224956                       </td><td style=\"text-align: right;\">0.457377</td><td style=\"text-align: right;\">                0.209194</td><td style=\"text-align: right;\">0.209194</td><td style=\"text-align: right;\">0.339901</td><td style=\"text-align: right;\">0.0541043</td></tr>\n",
              "<tr><td>DRF_1_AutoML_20210514_224956                       </td><td style=\"text-align: right;\">0.458511</td><td style=\"text-align: right;\">                0.210233</td><td style=\"text-align: right;\">0.210233</td><td style=\"text-align: right;\">0.331665</td><td style=\"text-align: right;\">0.0542333</td></tr>\n",
              "<tr><td>XRT_1_AutoML_20210514_224956                       </td><td style=\"text-align: right;\">0.476538</td><td style=\"text-align: right;\">                0.227088</td><td style=\"text-align: right;\">0.227088</td><td style=\"text-align: right;\">0.349985</td><td style=\"text-align: right;\">0.056161 </td></tr>\n",
              "<tr><td>GBM_grid__1_AutoML_20210514_224956_model_1         </td><td style=\"text-align: right;\">0.496731</td><td style=\"text-align: right;\">                0.246742</td><td style=\"text-align: right;\">0.246742</td><td style=\"text-align: right;\">0.372591</td><td style=\"text-align: right;\">0.058503 </td></tr>\n",
              "<tr><td>DeepLearning_grid__2_AutoML_20210514_224956_model_1</td><td style=\"text-align: right;\">0.502422</td><td style=\"text-align: right;\">                0.252428</td><td style=\"text-align: right;\">0.252428</td><td style=\"text-align: right;\">0.401451</td><td style=\"text-align: right;\">0.0599234</td></tr>\n",
              "<tr><td>DeepLearning_grid__1_AutoML_20210514_224956_model_1</td><td style=\"text-align: right;\">0.505102</td><td style=\"text-align: right;\">                0.255128</td><td style=\"text-align: right;\">0.255128</td><td style=\"text-align: right;\">0.351123</td><td style=\"text-align: right;\">0.0590423</td></tr>\n",
              "<tr><td>DeepLearning_grid__2_AutoML_20210514_224956_model_2</td><td style=\"text-align: right;\">0.508179</td><td style=\"text-align: right;\">                0.258246</td><td style=\"text-align: right;\">0.258246</td><td style=\"text-align: right;\">0.366799</td><td style=\"text-align: right;\">0.0597655</td></tr>\n",
              "<tr><td>DeepLearning_1_AutoML_20210514_224956              </td><td style=\"text-align: right;\">0.508238</td><td style=\"text-align: right;\">                0.258306</td><td style=\"text-align: right;\">0.258306</td><td style=\"text-align: right;\">0.359565</td><td style=\"text-align: right;\">0.0598961</td></tr>\n",
              "<tr><td>DeepLearning_grid__1_AutoML_20210514_224956_model_2</td><td style=\"text-align: right;\">0.526321</td><td style=\"text-align: right;\">                0.277014</td><td style=\"text-align: right;\">0.277014</td><td style=\"text-align: right;\">0.377874</td><td style=\"text-align: right;\">0.0618591</td></tr>\n",
              "<tr><td>DeepLearning_grid__3_AutoML_20210514_224956_model_2</td><td style=\"text-align: right;\">0.538854</td><td style=\"text-align: right;\">                0.290364</td><td style=\"text-align: right;\">0.290364</td><td style=\"text-align: right;\">0.406533</td><td style=\"text-align: right;\">0.0638635</td></tr>\n",
              "<tr><td>DeepLearning_grid__3_AutoML_20210514_224956_model_1</td><td style=\"text-align: right;\">0.539542</td><td style=\"text-align: right;\">                0.291105</td><td style=\"text-align: right;\">0.291105</td><td style=\"text-align: right;\">0.393641</td><td style=\"text-align: right;\">0.0634165</td></tr>\n",
              "<tr><td>DeepLearning_grid__1_AutoML_20210514_224956_model_3</td><td style=\"text-align: right;\">0.550542</td><td style=\"text-align: right;\">                0.303097</td><td style=\"text-align: right;\">0.303097</td><td style=\"text-align: right;\">0.413561</td><td style=\"text-align: right;\">0.0649373</td></tr>\n",
              "<tr><td>GBM_grid__1_AutoML_20210514_224956_model_7         </td><td style=\"text-align: right;\">0.562801</td><td style=\"text-align: right;\">                0.316745</td><td style=\"text-align: right;\">0.316745</td><td style=\"text-align: right;\">0.424848</td><td style=\"text-align: right;\">0.0662633</td></tr>\n",
              "<tr><td>DeepLearning_grid__2_AutoML_20210514_224956_model_3</td><td style=\"text-align: right;\">0.583094</td><td style=\"text-align: right;\">                0.339999</td><td style=\"text-align: right;\">0.339999</td><td style=\"text-align: right;\">0.427133</td><td style=\"text-align: right;\">0.0686848</td></tr>\n",
              "<tr><td>DeepLearning_grid__3_AutoML_20210514_224956_model_3</td><td style=\"text-align: right;\">0.585188</td><td style=\"text-align: right;\">                0.342445</td><td style=\"text-align: right;\">0.342445</td><td style=\"text-align: right;\">0.43812 </td><td style=\"text-align: right;\">0.069084 </td></tr>\n",
              "</tbody>\n",
              "</table>"
            ]
          },
          "metadata": {
            "tags": []
          }
        },
        {
          "output_type": "execute_result",
          "data": {
            "text/plain": [
              ""
            ]
          },
          "metadata": {
            "tags": []
          },
          "execution_count": 26
        }
      ]
    },
    {
      "cell_type": "code",
      "metadata": {
        "id": "3H7nCANy-9d1"
      },
      "source": [
        "# Get model ids for all models in the AutoML Leaderboard\n",
        "model_ids = list(aml.leaderboard['model_id'].as_data_frame().iloc[:,0])\n",
        "\n",
        "# Get the top _____ from Leaderboard\n",
        "gbm = h2o.get_model([mid for mid in model_ids if \"GBM_3\" in mid][0])"
      ],
      "execution_count": null,
      "outputs": []
    },
    {
      "cell_type": "code",
      "metadata": {
        "colab": {
          "base_uri": "https://localhost:8080/"
        },
        "id": "roXgwDdy-9d2",
        "scrolled": true,
        "outputId": "3b34a4f3-a82d-4490-b959-dddc9cabb274"
      },
      "source": [
        "print(\"ntrees = \", gbm.params['ntrees'])\n",
        "print(\"max depth = \", gbm.params['max_depth'])\n",
        "print(\"learn rate = \", gbm.params['learn_rate'])\n",
        "print(\"sample rate = \", gbm.params['sample_rate'])"
      ],
      "execution_count": null,
      "outputs": [
        {
          "output_type": "stream",
          "text": [
            "ntrees =  {'default': 50, 'actual': 57, 'input': 10000}\n",
            "max depth =  {'default': 5, 'actual': 8, 'input': 8}\n",
            "learn rate =  {'default': 0.1, 'actual': 0.1, 'input': 0.1}\n",
            "sample rate =  {'default': 1.0, 'actual': 0.8, 'input': 0.8}\n"
          ],
          "name": "stdout"
        }
      ]
    },
    {
      "cell_type": "code",
      "metadata": {
        "colab": {
          "base_uri": "https://localhost:8080/"
        },
        "id": "y4WcG1Ns-9d2",
        "scrolled": true,
        "outputId": "b4c54772-c9bd-40b6-ec3a-5634a34234dc"
      },
      "source": [
        "gbm.params"
      ],
      "execution_count": null,
      "outputs": [
        {
          "output_type": "execute_result",
          "data": {
            "text/plain": [
              "{'auc_type': {'actual': 'AUTO', 'default': 'AUTO', 'input': 'AUTO'},\n",
              " 'balance_classes': {'actual': False, 'default': False, 'input': False},\n",
              " 'build_tree_one_node': {'actual': False, 'default': False, 'input': False},\n",
              " 'calibrate_model': {'actual': False, 'default': False, 'input': False},\n",
              " 'calibration_frame': {'actual': None, 'default': None, 'input': None},\n",
              " 'categorical_encoding': {'actual': 'Enum',\n",
              "  'default': 'AUTO',\n",
              "  'input': 'AUTO'},\n",
              " 'check_constant_response': {'actual': True, 'default': True, 'input': True},\n",
              " 'checkpoint': {'actual': None, 'default': None, 'input': None},\n",
              " 'class_sampling_factors': {'actual': None, 'default': None, 'input': None},\n",
              " 'col_sample_rate': {'actual': 0.8, 'default': 1.0, 'input': 0.8},\n",
              " 'col_sample_rate_change_per_level': {'actual': 1.0,\n",
              "  'default': 1.0,\n",
              "  'input': 1.0},\n",
              " 'col_sample_rate_per_tree': {'actual': 0.8, 'default': 1.0, 'input': 0.8},\n",
              " 'custom_distribution_func': {'actual': None, 'default': None, 'input': None},\n",
              " 'custom_metric_func': {'actual': None, 'default': None, 'input': None},\n",
              " 'distribution': {'actual': 'gaussian', 'default': 'AUTO', 'input': 'AUTO'},\n",
              " 'export_checkpoints_dir': {'actual': None, 'default': None, 'input': None},\n",
              " 'fold_assignment': {'actual': 'Modulo', 'default': 'AUTO', 'input': 'Modulo'},\n",
              " 'fold_column': {'actual': None, 'default': None, 'input': None},\n",
              " 'gainslift_bins': {'actual': -1, 'default': -1, 'input': -1},\n",
              " 'histogram_type': {'actual': 'UniformAdaptive',\n",
              "  'default': 'AUTO',\n",
              "  'input': 'AUTO'},\n",
              " 'huber_alpha': {'actual': 0.9, 'default': 0.9, 'input': 0.9},\n",
              " 'ignore_const_cols': {'actual': True, 'default': True, 'input': True},\n",
              " 'ignored_columns': {'actual': ['LOAN_SEQUENCE_NUMBER',\n",
              "   'DELINQUENT',\n",
              "   'MATURITY_DATE',\n",
              "   'PREPAYMENT_PENALTY_MORTGAGE_FLAG',\n",
              "   'FIRST_PAYMENT_DATE',\n",
              "   'PREPAID',\n",
              "   'MORTGAGE_INSURANCE_PERCENTAGE',\n",
              "   'PRODUCT_TYPE'],\n",
              "  'default': None,\n",
              "  'input': ['LOAN_SEQUENCE_NUMBER',\n",
              "   'DELINQUENT',\n",
              "   'MATURITY_DATE',\n",
              "   'PREPAYMENT_PENALTY_MORTGAGE_FLAG',\n",
              "   'FIRST_PAYMENT_DATE',\n",
              "   'PREPAID',\n",
              "   'MORTGAGE_INSURANCE_PERCENTAGE',\n",
              "   'PRODUCT_TYPE']},\n",
              " 'keep_cross_validation_fold_assignment': {'actual': False,\n",
              "  'default': False,\n",
              "  'input': False},\n",
              " 'keep_cross_validation_models': {'actual': False,\n",
              "  'default': True,\n",
              "  'input': False},\n",
              " 'keep_cross_validation_predictions': {'actual': True,\n",
              "  'default': False,\n",
              "  'input': True},\n",
              " 'learn_rate': {'actual': 0.1, 'default': 0.1, 'input': 0.1},\n",
              " 'learn_rate_annealing': {'actual': 1.0, 'default': 1.0, 'input': 1.0},\n",
              " 'max_abs_leafnode_pred': {'actual': 1.7976931348623157e+308,\n",
              "  'default': 1.7976931348623157e+308,\n",
              "  'input': 1.7976931348623157e+308},\n",
              " 'max_after_balance_size': {'actual': 5.0, 'default': 5.0, 'input': 5.0},\n",
              " 'max_confusion_matrix_size': {'actual': 20, 'default': 20, 'input': 20},\n",
              " 'max_depth': {'actual': 8, 'default': 5, 'input': 8},\n",
              " 'max_runtime_secs': {'actual': 0.0, 'default': 0.0, 'input': 24.964501953125},\n",
              " 'min_rows': {'actual': 10.0, 'default': 10.0, 'input': 10.0},\n",
              " 'min_split_improvement': {'actual': 1e-05, 'default': 1e-05, 'input': 1e-05},\n",
              " 'model_id': {'actual': {'URL': '/3/Models/GBM_3_AutoML_20210514_224956',\n",
              "   '__meta': {'schema_name': 'ModelKeyV3',\n",
              "    'schema_type': 'Key<Model>',\n",
              "    'schema_version': 3},\n",
              "   'name': 'GBM_3_AutoML_20210514_224956',\n",
              "   'type': 'Key<Model>'},\n",
              "  'default': None,\n",
              "  'input': None},\n",
              " 'monotone_constraints': {'actual': None, 'default': None, 'input': None},\n",
              " 'nbins': {'actual': 20, 'default': 20, 'input': 20},\n",
              " 'nbins_cats': {'actual': 1024, 'default': 1024, 'input': 1024},\n",
              " 'nbins_top_level': {'actual': 1024, 'default': 1024, 'input': 1024},\n",
              " 'nfolds': {'actual': 5, 'default': 0, 'input': 5},\n",
              " 'ntrees': {'actual': 57, 'default': 50, 'input': 10000},\n",
              " 'offset_column': {'actual': None, 'default': None, 'input': None},\n",
              " 'pred_noise_bandwidth': {'actual': 0.0, 'default': 0.0, 'input': 0.0},\n",
              " 'quantile_alpha': {'actual': 0.5, 'default': 0.5, 'input': 0.5},\n",
              " 'r2_stopping': {'actual': 1.7976931348623157e+308,\n",
              "  'default': 1.7976931348623157e+308,\n",
              "  'input': 1.7976931348623157e+308},\n",
              " 'response_column': {'actual': {'__meta': {'schema_name': 'ColSpecifierV3',\n",
              "    'schema_type': 'VecSpecifier',\n",
              "    'schema_version': 3},\n",
              "   'column_name': 'ORIGINAL_INTEREST_RATE',\n",
              "   'is_member_of_frames': None},\n",
              "  'default': None,\n",
              "  'input': {'__meta': {'schema_name': 'ColSpecifierV3',\n",
              "    'schema_type': 'VecSpecifier',\n",
              "    'schema_version': 3},\n",
              "   'column_name': 'ORIGINAL_INTEREST_RATE',\n",
              "   'is_member_of_frames': None}},\n",
              " 'sample_rate': {'actual': 0.8, 'default': 1.0, 'input': 0.8},\n",
              " 'sample_rate_per_class': {'actual': None, 'default': None, 'input': None},\n",
              " 'score_each_iteration': {'actual': False, 'default': False, 'input': False},\n",
              " 'score_tree_interval': {'actual': 5, 'default': 0, 'input': 5},\n",
              " 'seed': {'actual': 49, 'default': -1, 'input': 49},\n",
              " 'stopping_metric': {'actual': 'RMSE', 'default': 'AUTO', 'input': 'RMSE'},\n",
              " 'stopping_rounds': {'actual': 0, 'default': 0, 'input': 3},\n",
              " 'stopping_tolerance': {'actual': 0.0050010003001000345,\n",
              "  'default': 0.001,\n",
              "  'input': 0.0050010003001000345},\n",
              " 'training_frame': {'actual': {'URL': '/3/Frames/automl_training_py_10_sid_a1bb',\n",
              "   '__meta': {'schema_name': 'FrameKeyV3',\n",
              "    'schema_type': 'Key<Frame>',\n",
              "    'schema_version': 3},\n",
              "   'name': 'automl_training_py_10_sid_a1bb',\n",
              "   'type': 'Key<Frame>'},\n",
              "  'default': None,\n",
              "  'input': {'URL': '/3/Frames/automl_training_py_10_sid_a1bb',\n",
              "   '__meta': {'schema_name': 'FrameKeyV3',\n",
              "    'schema_type': 'Key<Frame>',\n",
              "    'schema_version': 3},\n",
              "   'name': 'automl_training_py_10_sid_a1bb',\n",
              "   'type': 'Key<Frame>'}},\n",
              " 'tweedie_power': {'actual': 1.5, 'default': 1.5, 'input': 1.5},\n",
              " 'validation_frame': {'actual': None, 'default': None, 'input': None},\n",
              " 'weights_column': {'actual': None, 'default': None, 'input': None}}"
            ]
          },
          "metadata": {
            "tags": []
          },
          "execution_count": 29
        }
      ]
    },
    {
      "cell_type": "code",
      "metadata": {
        "colab": {
          "base_uri": "https://localhost:8080/",
          "height": 1000
        },
        "id": "rsi-fSju-9d2",
        "scrolled": false,
        "outputId": "1b5a80fb-00a7-4266-a3fa-5bc18948bcf4"
      },
      "source": [
        "gbm"
      ],
      "execution_count": null,
      "outputs": [
        {
          "output_type": "stream",
          "text": [
            "Model Details\n",
            "=============\n",
            "H2OGradientBoostingEstimator :  Gradient Boosting Machine\n",
            "Model Key:  GBM_3_AutoML_20210514_224956\n",
            "\n",
            "\n",
            "Model Summary: \n"
          ],
          "name": "stdout"
        },
        {
          "output_type": "display_data",
          "data": {
            "text/html": [
              "<div>\n",
              "<style scoped>\n",
              "    .dataframe tbody tr th:only-of-type {\n",
              "        vertical-align: middle;\n",
              "    }\n",
              "\n",
              "    .dataframe tbody tr th {\n",
              "        vertical-align: top;\n",
              "    }\n",
              "\n",
              "    .dataframe thead th {\n",
              "        text-align: right;\n",
              "    }\n",
              "</style>\n",
              "<table border=\"1\" class=\"dataframe\">\n",
              "  <thead>\n",
              "    <tr style=\"text-align: right;\">\n",
              "      <th></th>\n",
              "      <th></th>\n",
              "      <th>number_of_trees</th>\n",
              "      <th>number_of_internal_trees</th>\n",
              "      <th>model_size_in_bytes</th>\n",
              "      <th>min_depth</th>\n",
              "      <th>max_depth</th>\n",
              "      <th>mean_depth</th>\n",
              "      <th>min_leaves</th>\n",
              "      <th>max_leaves</th>\n",
              "      <th>mean_leaves</th>\n",
              "    </tr>\n",
              "  </thead>\n",
              "  <tbody>\n",
              "    <tr>\n",
              "      <th>0</th>\n",
              "      <td></td>\n",
              "      <td>57.0</td>\n",
              "      <td>57.0</td>\n",
              "      <td>134229.0</td>\n",
              "      <td>8.0</td>\n",
              "      <td>8.0</td>\n",
              "      <td>8.0</td>\n",
              "      <td>76.0</td>\n",
              "      <td>194.0</td>\n",
              "      <td>147.52632</td>\n",
              "    </tr>\n",
              "  </tbody>\n",
              "</table>\n",
              "</div>"
            ],
            "text/plain": [
              "     number_of_trees  ...  max_leaves  mean_leaves\n",
              "0               57.0  ...       194.0    147.52632\n",
              "\n",
              "[1 rows x 10 columns]"
            ]
          },
          "metadata": {
            "tags": []
          }
        },
        {
          "output_type": "stream",
          "text": [
            "\n",
            "\n",
            "ModelMetricsRegression: gbm\n",
            "** Reported on train data. **\n",
            "\n",
            "MSE: 0.14351593942756652\n",
            "RMSE: 0.3788349765103092\n",
            "MAE: 0.27375376214977265\n",
            "RMSLE: 0.04490229156371216\n",
            "Mean Residual Deviance: 0.14351593942756652\n",
            "\n",
            "ModelMetricsRegression: gbm\n",
            "** Reported on cross-validation data. **\n",
            "\n",
            "MSE: 0.1859291815156833\n",
            "RMSE: 0.43119506202608965\n",
            "MAE: 0.3130970945748643\n",
            "RMSLE: 0.05099618674247512\n",
            "Mean Residual Deviance: 0.1859291815156833\n",
            "\n",
            "Cross-Validation Metrics Summary: \n"
          ],
          "name": "stdout"
        },
        {
          "output_type": "display_data",
          "data": {
            "text/html": [
              "<div>\n",
              "<style scoped>\n",
              "    .dataframe tbody tr th:only-of-type {\n",
              "        vertical-align: middle;\n",
              "    }\n",
              "\n",
              "    .dataframe tbody tr th {\n",
              "        vertical-align: top;\n",
              "    }\n",
              "\n",
              "    .dataframe thead th {\n",
              "        text-align: right;\n",
              "    }\n",
              "</style>\n",
              "<table border=\"1\" class=\"dataframe\">\n",
              "  <thead>\n",
              "    <tr style=\"text-align: right;\">\n",
              "      <th></th>\n",
              "      <th></th>\n",
              "      <th>mean</th>\n",
              "      <th>sd</th>\n",
              "      <th>cv_1_valid</th>\n",
              "      <th>cv_2_valid</th>\n",
              "      <th>cv_3_valid</th>\n",
              "      <th>cv_4_valid</th>\n",
              "      <th>cv_5_valid</th>\n",
              "    </tr>\n",
              "  </thead>\n",
              "  <tbody>\n",
              "    <tr>\n",
              "      <th>0</th>\n",
              "      <td>mae</td>\n",
              "      <td>0.3130971</td>\n",
              "      <td>0.0014502355</td>\n",
              "      <td>0.31364968</td>\n",
              "      <td>0.3153873</td>\n",
              "      <td>0.31181452</td>\n",
              "      <td>0.3123145</td>\n",
              "      <td>0.31231937</td>\n",
              "    </tr>\n",
              "    <tr>\n",
              "      <th>1</th>\n",
              "      <td>mean_residual_deviance</td>\n",
              "      <td>0.1859291</td>\n",
              "      <td>0.0030992774</td>\n",
              "      <td>0.1880803</td>\n",
              "      <td>0.1902072</td>\n",
              "      <td>0.18448956</td>\n",
              "      <td>0.18413104</td>\n",
              "      <td>0.1827374</td>\n",
              "    </tr>\n",
              "    <tr>\n",
              "      <th>2</th>\n",
              "      <td>mse</td>\n",
              "      <td>0.1859291</td>\n",
              "      <td>0.0030992774</td>\n",
              "      <td>0.1880803</td>\n",
              "      <td>0.1902072</td>\n",
              "      <td>0.18448956</td>\n",
              "      <td>0.18413104</td>\n",
              "      <td>0.1827374</td>\n",
              "    </tr>\n",
              "    <tr>\n",
              "      <th>3</th>\n",
              "      <td>r2</td>\n",
              "      <td>0.4549728</td>\n",
              "      <td>0.0075220484</td>\n",
              "      <td>0.45033154</td>\n",
              "      <td>0.4464763</td>\n",
              "      <td>0.4533178</td>\n",
              "      <td>0.4655661</td>\n",
              "      <td>0.4591723</td>\n",
              "    </tr>\n",
              "    <tr>\n",
              "      <th>4</th>\n",
              "      <td>residual_deviance</td>\n",
              "      <td>0.1859291</td>\n",
              "      <td>0.0030992774</td>\n",
              "      <td>0.1880803</td>\n",
              "      <td>0.1902072</td>\n",
              "      <td>0.18448956</td>\n",
              "      <td>0.18413104</td>\n",
              "      <td>0.1827374</td>\n",
              "    </tr>\n",
              "    <tr>\n",
              "      <th>5</th>\n",
              "      <td>rmse</td>\n",
              "      <td>0.43118304</td>\n",
              "      <td>0.0035880893</td>\n",
              "      <td>0.43368226</td>\n",
              "      <td>0.4361275</td>\n",
              "      <td>0.42952248</td>\n",
              "      <td>0.42910492</td>\n",
              "      <td>0.42747796</td>\n",
              "    </tr>\n",
              "    <tr>\n",
              "      <th>6</th>\n",
              "      <td>rmsle</td>\n",
              "      <td>0.05099509</td>\n",
              "      <td>3.7273197E-4</td>\n",
              "      <td>0.051177256</td>\n",
              "      <td>0.051565662</td>\n",
              "      <td>0.050765492</td>\n",
              "      <td>0.05079446</td>\n",
              "      <td>0.050672576</td>\n",
              "    </tr>\n",
              "  </tbody>\n",
              "</table>\n",
              "</div>"
            ],
            "text/plain": [
              "                                 mean  ...  cv_4_valid   cv_5_valid\n",
              "0                     mae   0.3130971  ...   0.3123145   0.31231937\n",
              "1  mean_residual_deviance   0.1859291  ...  0.18413104    0.1827374\n",
              "2                     mse   0.1859291  ...  0.18413104    0.1827374\n",
              "3                      r2   0.4549728  ...   0.4655661    0.4591723\n",
              "4       residual_deviance   0.1859291  ...  0.18413104    0.1827374\n",
              "5                    rmse  0.43118304  ...  0.42910492   0.42747796\n",
              "6                   rmsle  0.05099509  ...  0.05079446  0.050672576\n",
              "\n",
              "[7 rows x 8 columns]"
            ]
          },
          "metadata": {
            "tags": []
          }
        },
        {
          "output_type": "stream",
          "text": [
            "\n",
            "Scoring History: \n"
          ],
          "name": "stdout"
        },
        {
          "output_type": "display_data",
          "data": {
            "text/html": [
              "<div>\n",
              "<style scoped>\n",
              "    .dataframe tbody tr th:only-of-type {\n",
              "        vertical-align: middle;\n",
              "    }\n",
              "\n",
              "    .dataframe tbody tr th {\n",
              "        vertical-align: top;\n",
              "    }\n",
              "\n",
              "    .dataframe thead th {\n",
              "        text-align: right;\n",
              "    }\n",
              "</style>\n",
              "<table border=\"1\" class=\"dataframe\">\n",
              "  <thead>\n",
              "    <tr style=\"text-align: right;\">\n",
              "      <th></th>\n",
              "      <th></th>\n",
              "      <th>timestamp</th>\n",
              "      <th>duration</th>\n",
              "      <th>number_of_trees</th>\n",
              "      <th>training_rmse</th>\n",
              "      <th>training_mae</th>\n",
              "      <th>training_deviance</th>\n",
              "    </tr>\n",
              "  </thead>\n",
              "  <tbody>\n",
              "    <tr>\n",
              "      <th>0</th>\n",
              "      <td></td>\n",
              "      <td>2021-05-14 22:52:44</td>\n",
              "      <td>17.691 sec</td>\n",
              "      <td>0.0</td>\n",
              "      <td>0.584073</td>\n",
              "      <td>0.441749</td>\n",
              "      <td>0.341141</td>\n",
              "    </tr>\n",
              "    <tr>\n",
              "      <th>1</th>\n",
              "      <td></td>\n",
              "      <td>2021-05-14 22:52:45</td>\n",
              "      <td>17.996 sec</td>\n",
              "      <td>5.0</td>\n",
              "      <td>0.510037</td>\n",
              "      <td>0.384655</td>\n",
              "      <td>0.260137</td>\n",
              "    </tr>\n",
              "    <tr>\n",
              "      <th>2</th>\n",
              "      <td></td>\n",
              "      <td>2021-05-14 22:52:45</td>\n",
              "      <td>18.291 sec</td>\n",
              "      <td>10.0</td>\n",
              "      <td>0.470208</td>\n",
              "      <td>0.353379</td>\n",
              "      <td>0.221095</td>\n",
              "    </tr>\n",
              "    <tr>\n",
              "      <th>3</th>\n",
              "      <td></td>\n",
              "      <td>2021-05-14 22:52:45</td>\n",
              "      <td>18.585 sec</td>\n",
              "      <td>15.0</td>\n",
              "      <td>0.439065</td>\n",
              "      <td>0.326883</td>\n",
              "      <td>0.192778</td>\n",
              "    </tr>\n",
              "    <tr>\n",
              "      <th>4</th>\n",
              "      <td></td>\n",
              "      <td>2021-05-14 22:52:46</td>\n",
              "      <td>18.890 sec</td>\n",
              "      <td>20.0</td>\n",
              "      <td>0.422712</td>\n",
              "      <td>0.312335</td>\n",
              "      <td>0.178685</td>\n",
              "    </tr>\n",
              "    <tr>\n",
              "      <th>5</th>\n",
              "      <td></td>\n",
              "      <td>2021-05-14 22:52:46</td>\n",
              "      <td>19.192 sec</td>\n",
              "      <td>25.0</td>\n",
              "      <td>0.411086</td>\n",
              "      <td>0.301918</td>\n",
              "      <td>0.168992</td>\n",
              "    </tr>\n",
              "    <tr>\n",
              "      <th>6</th>\n",
              "      <td></td>\n",
              "      <td>2021-05-14 22:52:46</td>\n",
              "      <td>19.485 sec</td>\n",
              "      <td>30.0</td>\n",
              "      <td>0.401901</td>\n",
              "      <td>0.293367</td>\n",
              "      <td>0.161524</td>\n",
              "    </tr>\n",
              "    <tr>\n",
              "      <th>7</th>\n",
              "      <td></td>\n",
              "      <td>2021-05-14 22:52:47</td>\n",
              "      <td>19.981 sec</td>\n",
              "      <td>35.0</td>\n",
              "      <td>0.395719</td>\n",
              "      <td>0.287910</td>\n",
              "      <td>0.156593</td>\n",
              "    </tr>\n",
              "    <tr>\n",
              "      <th>8</th>\n",
              "      <td></td>\n",
              "      <td>2021-05-14 22:52:47</td>\n",
              "      <td>20.278 sec</td>\n",
              "      <td>40.0</td>\n",
              "      <td>0.390466</td>\n",
              "      <td>0.283452</td>\n",
              "      <td>0.152463</td>\n",
              "    </tr>\n",
              "    <tr>\n",
              "      <th>9</th>\n",
              "      <td></td>\n",
              "      <td>2021-05-14 22:52:47</td>\n",
              "      <td>20.558 sec</td>\n",
              "      <td>45.0</td>\n",
              "      <td>0.385972</td>\n",
              "      <td>0.279630</td>\n",
              "      <td>0.148974</td>\n",
              "    </tr>\n",
              "    <tr>\n",
              "      <th>10</th>\n",
              "      <td></td>\n",
              "      <td>2021-05-14 22:52:48</td>\n",
              "      <td>20.861 sec</td>\n",
              "      <td>50.0</td>\n",
              "      <td>0.382467</td>\n",
              "      <td>0.276592</td>\n",
              "      <td>0.146281</td>\n",
              "    </tr>\n",
              "    <tr>\n",
              "      <th>11</th>\n",
              "      <td></td>\n",
              "      <td>2021-05-14 22:52:48</td>\n",
              "      <td>21.137 sec</td>\n",
              "      <td>55.0</td>\n",
              "      <td>0.379680</td>\n",
              "      <td>0.274396</td>\n",
              "      <td>0.144157</td>\n",
              "    </tr>\n",
              "    <tr>\n",
              "      <th>12</th>\n",
              "      <td></td>\n",
              "      <td>2021-05-14 22:52:48</td>\n",
              "      <td>21.258 sec</td>\n",
              "      <td>57.0</td>\n",
              "      <td>0.378835</td>\n",
              "      <td>0.273754</td>\n",
              "      <td>0.143516</td>\n",
              "    </tr>\n",
              "  </tbody>\n",
              "</table>\n",
              "</div>"
            ],
            "text/plain": [
              "                timestamp  ... training_mae  training_deviance\n",
              "0     2021-05-14 22:52:44  ...     0.441749           0.341141\n",
              "1     2021-05-14 22:52:45  ...     0.384655           0.260137\n",
              "2     2021-05-14 22:52:45  ...     0.353379           0.221095\n",
              "3     2021-05-14 22:52:45  ...     0.326883           0.192778\n",
              "4     2021-05-14 22:52:46  ...     0.312335           0.178685\n",
              "5     2021-05-14 22:52:46  ...     0.301918           0.168992\n",
              "6     2021-05-14 22:52:46  ...     0.293367           0.161524\n",
              "7     2021-05-14 22:52:47  ...     0.287910           0.156593\n",
              "8     2021-05-14 22:52:47  ...     0.283452           0.152463\n",
              "9     2021-05-14 22:52:47  ...     0.279630           0.148974\n",
              "10    2021-05-14 22:52:48  ...     0.276592           0.146281\n",
              "11    2021-05-14 22:52:48  ...     0.274396           0.144157\n",
              "12    2021-05-14 22:52:48  ...     0.273754           0.143516\n",
              "\n",
              "[13 rows x 7 columns]"
            ]
          },
          "metadata": {
            "tags": []
          }
        },
        {
          "output_type": "stream",
          "text": [
            "\n",
            "Variable Importances: \n"
          ],
          "name": "stdout"
        },
        {
          "output_type": "display_data",
          "data": {
            "text/html": [
              "<div>\n",
              "<style scoped>\n",
              "    .dataframe tbody tr th:only-of-type {\n",
              "        vertical-align: middle;\n",
              "    }\n",
              "\n",
              "    .dataframe tbody tr th {\n",
              "        vertical-align: top;\n",
              "    }\n",
              "\n",
              "    .dataframe thead th {\n",
              "        text-align: right;\n",
              "    }\n",
              "</style>\n",
              "<table border=\"1\" class=\"dataframe\">\n",
              "  <thead>\n",
              "    <tr style=\"text-align: right;\">\n",
              "      <th></th>\n",
              "      <th>variable</th>\n",
              "      <th>relative_importance</th>\n",
              "      <th>scaled_importance</th>\n",
              "      <th>percentage</th>\n",
              "    </tr>\n",
              "  </thead>\n",
              "  <tbody>\n",
              "    <tr>\n",
              "      <th>0</th>\n",
              "      <td>SELLER_NAME</td>\n",
              "      <td>16313.226562</td>\n",
              "      <td>1.000000</td>\n",
              "      <td>0.436583</td>\n",
              "    </tr>\n",
              "    <tr>\n",
              "      <th>1</th>\n",
              "      <td>SERVICER_NAME</td>\n",
              "      <td>4911.038574</td>\n",
              "      <td>0.301046</td>\n",
              "      <td>0.131432</td>\n",
              "    </tr>\n",
              "    <tr>\n",
              "      <th>2</th>\n",
              "      <td>PROPERTY_STATE</td>\n",
              "      <td>4720.433105</td>\n",
              "      <td>0.289362</td>\n",
              "      <td>0.126331</td>\n",
              "    </tr>\n",
              "    <tr>\n",
              "      <th>3</th>\n",
              "      <td>LOAN_PURPOSE</td>\n",
              "      <td>2071.910645</td>\n",
              "      <td>0.127008</td>\n",
              "      <td>0.055450</td>\n",
              "    </tr>\n",
              "    <tr>\n",
              "      <th>4</th>\n",
              "      <td>ORIGINAL_UPB</td>\n",
              "      <td>2010.926392</td>\n",
              "      <td>0.123270</td>\n",
              "      <td>0.053817</td>\n",
              "    </tr>\n",
              "    <tr>\n",
              "      <th>5</th>\n",
              "      <td>OCCUPANCY_STATUS</td>\n",
              "      <td>1715.718262</td>\n",
              "      <td>0.105173</td>\n",
              "      <td>0.045917</td>\n",
              "    </tr>\n",
              "    <tr>\n",
              "      <th>6</th>\n",
              "      <td>CREDIT_SCORE</td>\n",
              "      <td>1355.919434</td>\n",
              "      <td>0.083118</td>\n",
              "      <td>0.036288</td>\n",
              "    </tr>\n",
              "    <tr>\n",
              "      <th>7</th>\n",
              "      <td>ORIGINAL_LOAN_TO_VALUE</td>\n",
              "      <td>1222.750854</td>\n",
              "      <td>0.074955</td>\n",
              "      <td>0.032724</td>\n",
              "    </tr>\n",
              "    <tr>\n",
              "      <th>8</th>\n",
              "      <td>ORIGINAL_DEBT_TO_INCOME_RATIO</td>\n",
              "      <td>727.270020</td>\n",
              "      <td>0.044582</td>\n",
              "      <td>0.019464</td>\n",
              "    </tr>\n",
              "    <tr>\n",
              "      <th>9</th>\n",
              "      <td>ORIGINAL_COMBINED_LOAN_TO_VALUE</td>\n",
              "      <td>545.889404</td>\n",
              "      <td>0.033463</td>\n",
              "      <td>0.014609</td>\n",
              "    </tr>\n",
              "    <tr>\n",
              "      <th>10</th>\n",
              "      <td>METROPOLITAN_STATISTICAL_AREA</td>\n",
              "      <td>462.261475</td>\n",
              "      <td>0.028337</td>\n",
              "      <td>0.012371</td>\n",
              "    </tr>\n",
              "    <tr>\n",
              "      <th>11</th>\n",
              "      <td>ORIGINAL_LOAN_TERM</td>\n",
              "      <td>322.259460</td>\n",
              "      <td>0.019754</td>\n",
              "      <td>0.008624</td>\n",
              "    </tr>\n",
              "    <tr>\n",
              "      <th>12</th>\n",
              "      <td>CHANNEL</td>\n",
              "      <td>260.430511</td>\n",
              "      <td>0.015964</td>\n",
              "      <td>0.006970</td>\n",
              "    </tr>\n",
              "    <tr>\n",
              "      <th>13</th>\n",
              "      <td>POSTAL_CODE</td>\n",
              "      <td>208.454163</td>\n",
              "      <td>0.012778</td>\n",
              "      <td>0.005579</td>\n",
              "    </tr>\n",
              "    <tr>\n",
              "      <th>14</th>\n",
              "      <td>FIRST_TIME_HOMEBUYER_FLAG</td>\n",
              "      <td>191.411606</td>\n",
              "      <td>0.011734</td>\n",
              "      <td>0.005123</td>\n",
              "    </tr>\n",
              "    <tr>\n",
              "      <th>15</th>\n",
              "      <td>PROPERTY_TYPE</td>\n",
              "      <td>162.680405</td>\n",
              "      <td>0.009972</td>\n",
              "      <td>0.004354</td>\n",
              "    </tr>\n",
              "    <tr>\n",
              "      <th>16</th>\n",
              "      <td>NUMBER_OF_UNITS</td>\n",
              "      <td>94.224808</td>\n",
              "      <td>0.005776</td>\n",
              "      <td>0.002522</td>\n",
              "    </tr>\n",
              "    <tr>\n",
              "      <th>17</th>\n",
              "      <td>NUMBER_OF_BORROWERS</td>\n",
              "      <td>68.908623</td>\n",
              "      <td>0.004224</td>\n",
              "      <td>0.001844</td>\n",
              "    </tr>\n",
              "  </tbody>\n",
              "</table>\n",
              "</div>"
            ],
            "text/plain": [
              "                           variable  ...  percentage\n",
              "0                       SELLER_NAME  ...    0.436583\n",
              "1                     SERVICER_NAME  ...    0.131432\n",
              "2                    PROPERTY_STATE  ...    0.126331\n",
              "3                      LOAN_PURPOSE  ...    0.055450\n",
              "4                      ORIGINAL_UPB  ...    0.053817\n",
              "5                  OCCUPANCY_STATUS  ...    0.045917\n",
              "6                      CREDIT_SCORE  ...    0.036288\n",
              "7            ORIGINAL_LOAN_TO_VALUE  ...    0.032724\n",
              "8     ORIGINAL_DEBT_TO_INCOME_RATIO  ...    0.019464\n",
              "9   ORIGINAL_COMBINED_LOAN_TO_VALUE  ...    0.014609\n",
              "10    METROPOLITAN_STATISTICAL_AREA  ...    0.012371\n",
              "11               ORIGINAL_LOAN_TERM  ...    0.008624\n",
              "12                          CHANNEL  ...    0.006970\n",
              "13                      POSTAL_CODE  ...    0.005579\n",
              "14        FIRST_TIME_HOMEBUYER_FLAG  ...    0.005123\n",
              "15                    PROPERTY_TYPE  ...    0.004354\n",
              "16                  NUMBER_OF_UNITS  ...    0.002522\n",
              "17              NUMBER_OF_BORROWERS  ...    0.001844\n",
              "\n",
              "[18 rows x 4 columns]"
            ]
          },
          "metadata": {
            "tags": []
          }
        },
        {
          "output_type": "execute_result",
          "data": {
            "text/plain": [
              ""
            ]
          },
          "metadata": {
            "tags": []
          },
          "execution_count": 30
        }
      ]
    },
    {
      "cell_type": "code",
      "metadata": {
        "colab": {
          "base_uri": "https://localhost:8080/",
          "height": 296
        },
        "id": "7jBEJFmO-9d2",
        "outputId": "5839783a-0dc0-4196-cd06-3ae918b58c3e"
      },
      "source": [
        "gbm.plot()"
      ],
      "execution_count": null,
      "outputs": [
        {
          "output_type": "display_data",
          "data": {
            "image/png": "[encoded data removed]",
            "text/plain": [
              "<Figure size 432x288 with 1 Axes>"
            ]
          },
          "metadata": {
            "tags": [],
            "needs_background": "light"
          }
        }
      ]
    },
    {
      "cell_type": "code",
      "metadata": {
        "colab": {
          "base_uri": "https://localhost:8080/"
        },
        "id": "nKU5l7cT-9d2",
        "outputId": "aa8dc2dc-9503-408a-a354-515062a7aa31"
      },
      "source": [
        "gbm.model_performance(test_data = test)"
      ],
      "execution_count": null,
      "outputs": [
        {
          "output_type": "stream",
          "text": [
            "\n",
            "ModelMetricsRegression: gbm\n",
            "** Reported on test data. **\n",
            "\n",
            "MSE: 0.1841337475202411\n",
            "RMSE: 0.4291080837274463\n",
            "MAE: 0.3132060934423781\n",
            "RMSLE: 0.05079714341814705\n",
            "Mean Residual Deviance: 0.1841337475202411\n"
          ],
          "name": "stdout"
        },
        {
          "output_type": "execute_result",
          "data": {
            "text/plain": [
              ""
            ]
          },
          "metadata": {
            "tags": []
          },
          "execution_count": 32
        }
      ]
    },
    {
      "cell_type": "code",
      "metadata": {
        "colab": {
          "base_uri": "https://localhost:8080/"
        },
        "id": "JU5-p12e-9d2",
        "outputId": "a1a33abe-4c7f-4b54-adc4-24f2010664bb"
      },
      "source": [
        "aml.leader.model_performance(test_data = test)"
      ],
      "execution_count": null,
      "outputs": [
        {
          "output_type": "stream",
          "text": [
            "\n",
            "ModelMetricsRegression: gbm\n",
            "** Reported on test data. **\n",
            "\n",
            "MSE: 0.18479878271260888\n",
            "RMSE: 0.4298822893683908\n",
            "MAE: 0.3130563833418824\n",
            "RMSLE: 0.05088511834510968\n",
            "Mean Residual Deviance: 0.18479878271260888\n"
          ],
          "name": "stdout"
        },
        {
          "output_type": "execute_result",
          "data": {
            "text/plain": [
              ""
            ]
          },
          "metadata": {
            "tags": []
          },
          "execution_count": 33
        }
      ]
    },
    {
      "cell_type": "code",
      "metadata": {
        "colab": {
          "base_uri": "https://localhost:8080/",
          "height": 255
        },
        "id": "Ru--SvrA-9d3",
        "outputId": "4dc7b084-69e2-4232-e2f0-6bb189e3495a"
      },
      "source": [
        "pred = gbm.predict(test)\n",
        "pred = pred.cbind(test['ORIGINAL_INTEREST_RATE'])\n",
        "pred.head()"
      ],
      "execution_count": null,
      "outputs": [
        {
          "output_type": "stream",
          "text": [
            "gbm prediction progress: |████████████████████████████████████████████████| 100%\n"
          ],
          "name": "stdout"
        },
        {
          "output_type": "display_data",
          "data": {
            "text/html": [
              "<table>\n",
              "<thead>\n",
              "<tr><th style=\"text-align: right;\">  predict</th><th style=\"text-align: right;\">  ORIGINAL_INTEREST_RATE</th></tr>\n",
              "</thead>\n",
              "<tbody>\n",
              "<tr><td style=\"text-align: right;\">  6.90648</td><td style=\"text-align: right;\">                   7.5  </td></tr>\n",
              "<tr><td style=\"text-align: right;\">  7.00887</td><td style=\"text-align: right;\">                   6.625</td></tr>\n",
              "<tr><td style=\"text-align: right;\">  7.23106</td><td style=\"text-align: right;\">                   7    </td></tr>\n",
              "<tr><td style=\"text-align: right;\">  7.23262</td><td style=\"text-align: right;\">                   7.15 </td></tr>\n",
              "<tr><td style=\"text-align: right;\">  7.15959</td><td style=\"text-align: right;\">                   7    </td></tr>\n",
              "<tr><td style=\"text-align: right;\">  7.36226</td><td style=\"text-align: right;\">                   7.125</td></tr>\n",
              "<tr><td style=\"text-align: right;\">  6.87353</td><td style=\"text-align: right;\">                   8.75 </td></tr>\n",
              "<tr><td style=\"text-align: right;\">  6.90346</td><td style=\"text-align: right;\">                   6.5  </td></tr>\n",
              "<tr><td style=\"text-align: right;\">  7.06122</td><td style=\"text-align: right;\">                   7    </td></tr>\n",
              "<tr><td style=\"text-align: right;\">  7.19299</td><td style=\"text-align: right;\">                   7.25 </td></tr>\n",
              "</tbody>\n",
              "</table>"
            ]
          },
          "metadata": {
            "tags": []
          }
        },
        {
          "output_type": "execute_result",
          "data": {
            "text/plain": [
              ""
            ]
          },
          "metadata": {
            "tags": []
          },
          "execution_count": 34
        }
      ]
    },
    {
      "cell_type": "markdown",
      "metadata": {
        "id": "yNp82yeH-9d3"
      },
      "source": [
        "## Task 6: H2O AutoML Classification in Flow\n",
        "\n",
        "Please refer to the Document"
      ]
    },
    {
      "cell_type": "markdown",
      "metadata": {
        "id": "eXitAUKF-9d3"
      },
      "source": [
        "## Task 7: H2O AutoML Regression in Flow\n",
        "\n",
        "Please refer to the Document"
      ]
    },
    {
      "cell_type": "code",
      "metadata": {
        "colab": {
          "base_uri": "https://localhost:8080/"
        },
        "id": "w90orDzq-9d3",
        "outputId": "304d7159-32c6-4fdc-cda5-31ec76012369"
      },
      "source": [
        "h2o.cluster().shutdown()"
      ],
      "execution_count": null,
      "outputs": [
        {
          "output_type": "stream",
          "text": [
            "H2O session _sid_a1bb closed.\n"
          ],
          "name": "stdout"
        }
      ]
    },
    {
      "cell_type": "markdown",
      "metadata": {
        "id": "_LAqGJkq-9d3"
      },
      "source": [
        "## Task 8: Challenge"
      ]
    },
    {
      "cell_type": "markdown",
      "metadata": {
        "id": "gPbJ0KML-9d3"
      },
      "source": [
        "Try to further tune the GBM that we found when we did the regression use-case in our Jupyter Notebook"
      ]
    },
    {
      "cell_type": "markdown",
      "metadata": {
        "id": "nijwpCv8-9d4"
      },
      "source": [
        "### Shutdown Cluster"
      ]
    },
    {
      "cell_type": "code",
      "metadata": {
        "id": "ioRel84p-9d4"
      },
      "source": [
        "#h2o.cluster().shutdown()"
      ],
      "execution_count": null,
      "outputs": []
    },
    {
      "cell_type": "code",
      "metadata": {
        "id": "HyAZeJ0i-9d4"
      },
      "source": [
        ""
      ],
      "execution_count": null,
      "outputs": []
    }
  ]
}